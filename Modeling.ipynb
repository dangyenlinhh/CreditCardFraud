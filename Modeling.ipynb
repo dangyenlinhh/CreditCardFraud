{
  "metadata": {
    "colab": {
      "provenance": []
    },
    "kernelspec": {
      "name": "python3",
      "display_name": "Python 3",
      "language": "python"
    },
    "language_info": {
      "name": "python",
      "version": "3.10.13",
      "mimetype": "text/x-python",
      "codemirror_mode": {
        "name": "ipython",
        "version": 3
      },
      "pygments_lexer": "ipython3",
      "nbconvert_exporter": "python",
      "file_extension": ".py"
    },
    "kaggle": {
      "accelerator": "none",
      "dataSources": [
        {
          "sourceId": 7972218,
          "sourceType": "datasetVersion",
          "datasetId": 4691121
        }
      ],
      "dockerImageVersionId": 30673,
      "isInternetEnabled": true,
      "language": "python",
      "sourceType": "notebook",
      "isGpuEnabled": false
    }
  },
  "nbformat_minor": 0,
  "nbformat": 4,
  "cells": [
    {
      "cell_type": "markdown",
      "source": [
        "# Problem Statement"
      ],
      "metadata": {
        "id": "1yoNZzjqJfqg"
      }
    },
    {
      "cell_type": "markdown",
      "source": [
        "Developing an effective credit card fraud detection model is essential in mitigating financial losses and maintaining trust in financial systems.\n",
        "\n",
        "In this project, we are examining the Credit Card Transactions Fraud Detection Dataset which contains both a training dataset and a testing dataset. We will first perform an exploratory data analysis to the training data to understand which features might be correlated to fraudulent activities and then attempt to create models with those features and test out their predicitve effectiveness."
      ],
      "metadata": {
        "id": "6oZVsLrLuRju"
      }
    },
    {
      "cell_type": "markdown",
      "source": [
        "## 1. Import Necessary Libraries\n"
      ],
      "metadata": {
        "id": "eeybzJIaJN8V"
      }
    },
    {
      "cell_type": "code",
      "source": [
        "import pandas as pd\n",
        "import numpy as np\n",
        "import matplotlib.pyplot as plt\n",
        "import seaborn as sns\n",
        "import plotly.express as px\n",
        "\n",
        "import warnings\n",
        "warnings.filterwarnings('ignore')\n",
        "\n",
        "from datetime import datetime\n",
        "from sklearn.preprocessing import LabelEncoder\n",
        "\n",
        "from sklearn.metrics import classification_report\n",
        "from sklearn.pipeline import Pipeline\n",
        "from sklearn.preprocessing import StandardScaler\n",
        "from sklearn.linear_model import LogisticRegression\n",
        "from sklearn.tree import DecisionTreeClassifier\n",
        "from sklearn.ensemble import RandomForestClassifier\n",
        "from xgboost import XGBClassifier\n",
        "from sklearn.model_selection import GridSearchCV\n",
        "\n",
        "from sklearn.metrics import *"
      ],
      "metadata": {
        "id": "PbWa6ZI-J0LV",
        "execution": {
          "iopub.status.busy": "2024-03-29T15:03:56.638354Z",
          "iopub.execute_input": "2024-03-29T15:03:56.638773Z",
          "iopub.status.idle": "2024-03-29T15:04:00.394046Z",
          "shell.execute_reply.started": "2024-03-29T15:03:56.638742Z",
          "shell.execute_reply": "2024-03-29T15:04:00.392861Z"
        },
        "trusted": true
      },
      "execution_count": 1,
      "outputs": []
    },
    {
      "cell_type": "markdown",
      "source": [
        "## 2. Load Dataset"
      ],
      "metadata": {
        "id": "Sno0GACaJbq7"
      }
    },
    {
      "cell_type": "code",
      "source": [
        "from google.colab import drive\n",
        "drive.mount('/content/drive')"
      ],
      "metadata": {
        "colab": {
          "base_uri": "https://localhost:8080/"
        },
        "id": "uFkn80r0HjxM",
        "outputId": "46ce56f3-f556-4f16-dfb9-2f0930971906",
        "execution": {
          "iopub.status.busy": "2024-03-29T15:04:00.396001Z",
          "iopub.execute_input": "2024-03-29T15:04:00.396548Z",
          "iopub.status.idle": "2024-03-29T15:04:00.401947Z",
          "shell.execute_reply.started": "2024-03-29T15:04:00.396510Z",
          "shell.execute_reply": "2024-03-29T15:04:00.400433Z"
        },
        "trusted": true
      },
      "execution_count": 2,
      "outputs": [
        {
          "output_type": "stream",
          "name": "stdout",
          "text": [
            "Mounted at /content/drive\n"
          ]
        }
      ]
    },
    {
      "cell_type": "code",
      "source": [
        "train_set =pd.read_csv('drive/MyDrive/creditCardFraud/Data/data_train.csv')\n",
        "train_set.head(5)"
      ],
      "metadata": {
        "colab": {
          "base_uri": "https://localhost:8080/",
          "height": 551
        },
        "id": "fomofuLgKfue",
        "outputId": "fbdde680-d563-41d5-9bb2-2a8b0b684d7b",
        "execution": {
          "iopub.status.busy": "2024-03-29T15:04:00.403396Z",
          "iopub.execute_input": "2024-03-29T15:04:00.403834Z",
          "iopub.status.idle": "2024-03-29T15:04:12.579504Z",
          "shell.execute_reply.started": "2024-03-29T15:04:00.403794Z",
          "shell.execute_reply": "2024-03-29T15:04:12.578317Z"
        },
        "trusted": true
      },
      "execution_count": 3,
      "outputs": [
        {
          "output_type": "execute_result",
          "data": {
            "text/plain": [
              "   Unnamed: 0 trans_date_trans_time            cc_num  \\\n",
              "0           0   2019-01-01 00:00:18  2703186189652095   \n",
              "1           1   2019-01-01 00:00:44      630423337322   \n",
              "2           2   2019-01-01 00:00:51    38859492057661   \n",
              "3           3   2019-01-01 00:01:16  3534093764340240   \n",
              "4           4   2019-01-01 00:03:06   375534208663984   \n",
              "\n",
              "                       merchant       category     amt      first     last  \\\n",
              "0          Rippin, Kub and Mann       misc_net    4.97   Jennifer    Banks   \n",
              "1     Heller, Gutmann and Zieme    grocery_pos  107.23  Stephanie     Gill   \n",
              "2                Lind-Buckridge  entertainment  220.11     Edward  Sanchez   \n",
              "3  Kutch, Hermiston and Farrell  gas_transport   45.00     Jeremy    White   \n",
              "4                 Keeling-Crist       misc_pos   41.96      Tyler   Garcia   \n",
              "\n",
              "  gender                        street  ...      long city_pop  \\\n",
              "0      F                561 Perry Cove  ...  -81.1781     3495   \n",
              "1      F  43039 Riley Greens Suite 393  ... -118.2105      149   \n",
              "2      M      594 White Dale Suite 530  ... -112.2620     4154   \n",
              "3      M   9443 Cynthia Court Apt. 038  ... -112.1138     1939   \n",
              "4      M              408 Bradley Rest  ...  -79.4629       99   \n",
              "\n",
              "                                 job         dob  \\\n",
              "0          Psychologist, counselling  1988-03-09   \n",
              "1  Special educational needs teacher  1978-06-21   \n",
              "2        Nature conservation officer  1962-01-19   \n",
              "3                    Patent attorney  1967-01-12   \n",
              "4     Dance movement psychotherapist  1986-03-28   \n",
              "\n",
              "                          trans_num   unix_time  merch_lat  merch_long  \\\n",
              "0  0b242abb623afc578575680df30655b9  1325376018  36.011293  -82.048315   \n",
              "1  1f76529f8574734946361c461b024d99  1325376044  49.159047 -118.186462   \n",
              "2  a1a22d70485983eac12b5b88dad1cf95  1325376051  43.150704 -112.154481   \n",
              "3  6b849c168bdad6f867558c3793159a81  1325376076  47.034331 -112.561071   \n",
              "4  a41d7549acf90789359a9aa5346dcb46  1325376186  38.674999  -78.632459   \n",
              "\n",
              "  is_fraud  merchant_id  \n",
              "0        0            1  \n",
              "1        0            2  \n",
              "2        0            3  \n",
              "3        0            4  \n",
              "4        0            5  \n",
              "\n",
              "[5 rows x 24 columns]"
            ],
            "text/html": [
              "\n",
              "  <div id=\"df-98963d52-d8c1-4683-823a-83717878f185\" class=\"colab-df-container\">\n",
              "    <div>\n",
              "<style scoped>\n",
              "    .dataframe tbody tr th:only-of-type {\n",
              "        vertical-align: middle;\n",
              "    }\n",
              "\n",
              "    .dataframe tbody tr th {\n",
              "        vertical-align: top;\n",
              "    }\n",
              "\n",
              "    .dataframe thead th {\n",
              "        text-align: right;\n",
              "    }\n",
              "</style>\n",
              "<table border=\"1\" class=\"dataframe\">\n",
              "  <thead>\n",
              "    <tr style=\"text-align: right;\">\n",
              "      <th></th>\n",
              "      <th>Unnamed: 0</th>\n",
              "      <th>trans_date_trans_time</th>\n",
              "      <th>cc_num</th>\n",
              "      <th>merchant</th>\n",
              "      <th>category</th>\n",
              "      <th>amt</th>\n",
              "      <th>first</th>\n",
              "      <th>last</th>\n",
              "      <th>gender</th>\n",
              "      <th>street</th>\n",
              "      <th>...</th>\n",
              "      <th>long</th>\n",
              "      <th>city_pop</th>\n",
              "      <th>job</th>\n",
              "      <th>dob</th>\n",
              "      <th>trans_num</th>\n",
              "      <th>unix_time</th>\n",
              "      <th>merch_lat</th>\n",
              "      <th>merch_long</th>\n",
              "      <th>is_fraud</th>\n",
              "      <th>merchant_id</th>\n",
              "    </tr>\n",
              "  </thead>\n",
              "  <tbody>\n",
              "    <tr>\n",
              "      <th>0</th>\n",
              "      <td>0</td>\n",
              "      <td>2019-01-01 00:00:18</td>\n",
              "      <td>2703186189652095</td>\n",
              "      <td>Rippin, Kub and Mann</td>\n",
              "      <td>misc_net</td>\n",
              "      <td>4.97</td>\n",
              "      <td>Jennifer</td>\n",
              "      <td>Banks</td>\n",
              "      <td>F</td>\n",
              "      <td>561 Perry Cove</td>\n",
              "      <td>...</td>\n",
              "      <td>-81.1781</td>\n",
              "      <td>3495</td>\n",
              "      <td>Psychologist, counselling</td>\n",
              "      <td>1988-03-09</td>\n",
              "      <td>0b242abb623afc578575680df30655b9</td>\n",
              "      <td>1325376018</td>\n",
              "      <td>36.011293</td>\n",
              "      <td>-82.048315</td>\n",
              "      <td>0</td>\n",
              "      <td>1</td>\n",
              "    </tr>\n",
              "    <tr>\n",
              "      <th>1</th>\n",
              "      <td>1</td>\n",
              "      <td>2019-01-01 00:00:44</td>\n",
              "      <td>630423337322</td>\n",
              "      <td>Heller, Gutmann and Zieme</td>\n",
              "      <td>grocery_pos</td>\n",
              "      <td>107.23</td>\n",
              "      <td>Stephanie</td>\n",
              "      <td>Gill</td>\n",
              "      <td>F</td>\n",
              "      <td>43039 Riley Greens Suite 393</td>\n",
              "      <td>...</td>\n",
              "      <td>-118.2105</td>\n",
              "      <td>149</td>\n",
              "      <td>Special educational needs teacher</td>\n",
              "      <td>1978-06-21</td>\n",
              "      <td>1f76529f8574734946361c461b024d99</td>\n",
              "      <td>1325376044</td>\n",
              "      <td>49.159047</td>\n",
              "      <td>-118.186462</td>\n",
              "      <td>0</td>\n",
              "      <td>2</td>\n",
              "    </tr>\n",
              "    <tr>\n",
              "      <th>2</th>\n",
              "      <td>2</td>\n",
              "      <td>2019-01-01 00:00:51</td>\n",
              "      <td>38859492057661</td>\n",
              "      <td>Lind-Buckridge</td>\n",
              "      <td>entertainment</td>\n",
              "      <td>220.11</td>\n",
              "      <td>Edward</td>\n",
              "      <td>Sanchez</td>\n",
              "      <td>M</td>\n",
              "      <td>594 White Dale Suite 530</td>\n",
              "      <td>...</td>\n",
              "      <td>-112.2620</td>\n",
              "      <td>4154</td>\n",
              "      <td>Nature conservation officer</td>\n",
              "      <td>1962-01-19</td>\n",
              "      <td>a1a22d70485983eac12b5b88dad1cf95</td>\n",
              "      <td>1325376051</td>\n",
              "      <td>43.150704</td>\n",
              "      <td>-112.154481</td>\n",
              "      <td>0</td>\n",
              "      <td>3</td>\n",
              "    </tr>\n",
              "    <tr>\n",
              "      <th>3</th>\n",
              "      <td>3</td>\n",
              "      <td>2019-01-01 00:01:16</td>\n",
              "      <td>3534093764340240</td>\n",
              "      <td>Kutch, Hermiston and Farrell</td>\n",
              "      <td>gas_transport</td>\n",
              "      <td>45.00</td>\n",
              "      <td>Jeremy</td>\n",
              "      <td>White</td>\n",
              "      <td>M</td>\n",
              "      <td>9443 Cynthia Court Apt. 038</td>\n",
              "      <td>...</td>\n",
              "      <td>-112.1138</td>\n",
              "      <td>1939</td>\n",
              "      <td>Patent attorney</td>\n",
              "      <td>1967-01-12</td>\n",
              "      <td>6b849c168bdad6f867558c3793159a81</td>\n",
              "      <td>1325376076</td>\n",
              "      <td>47.034331</td>\n",
              "      <td>-112.561071</td>\n",
              "      <td>0</td>\n",
              "      <td>4</td>\n",
              "    </tr>\n",
              "    <tr>\n",
              "      <th>4</th>\n",
              "      <td>4</td>\n",
              "      <td>2019-01-01 00:03:06</td>\n",
              "      <td>375534208663984</td>\n",
              "      <td>Keeling-Crist</td>\n",
              "      <td>misc_pos</td>\n",
              "      <td>41.96</td>\n",
              "      <td>Tyler</td>\n",
              "      <td>Garcia</td>\n",
              "      <td>M</td>\n",
              "      <td>408 Bradley Rest</td>\n",
              "      <td>...</td>\n",
              "      <td>-79.4629</td>\n",
              "      <td>99</td>\n",
              "      <td>Dance movement psychotherapist</td>\n",
              "      <td>1986-03-28</td>\n",
              "      <td>a41d7549acf90789359a9aa5346dcb46</td>\n",
              "      <td>1325376186</td>\n",
              "      <td>38.674999</td>\n",
              "      <td>-78.632459</td>\n",
              "      <td>0</td>\n",
              "      <td>5</td>\n",
              "    </tr>\n",
              "  </tbody>\n",
              "</table>\n",
              "<p>5 rows × 24 columns</p>\n",
              "</div>\n",
              "    <div class=\"colab-df-buttons\">\n",
              "\n",
              "  <div class=\"colab-df-container\">\n",
              "    <button class=\"colab-df-convert\" onclick=\"convertToInteractive('df-98963d52-d8c1-4683-823a-83717878f185')\"\n",
              "            title=\"Convert this dataframe to an interactive table.\"\n",
              "            style=\"display:none;\">\n",
              "\n",
              "  <svg xmlns=\"http://www.w3.org/2000/svg\" height=\"24px\" viewBox=\"0 -960 960 960\">\n",
              "    <path d=\"M120-120v-720h720v720H120Zm60-500h600v-160H180v160Zm220 220h160v-160H400v160Zm0 220h160v-160H400v160ZM180-400h160v-160H180v160Zm440 0h160v-160H620v160ZM180-180h160v-160H180v160Zm440 0h160v-160H620v160Z\"/>\n",
              "  </svg>\n",
              "    </button>\n",
              "\n",
              "  <style>\n",
              "    .colab-df-container {\n",
              "      display:flex;\n",
              "      gap: 12px;\n",
              "    }\n",
              "\n",
              "    .colab-df-convert {\n",
              "      background-color: #E8F0FE;\n",
              "      border: none;\n",
              "      border-radius: 50%;\n",
              "      cursor: pointer;\n",
              "      display: none;\n",
              "      fill: #1967D2;\n",
              "      height: 32px;\n",
              "      padding: 0 0 0 0;\n",
              "      width: 32px;\n",
              "    }\n",
              "\n",
              "    .colab-df-convert:hover {\n",
              "      background-color: #E2EBFA;\n",
              "      box-shadow: 0px 1px 2px rgba(60, 64, 67, 0.3), 0px 1px 3px 1px rgba(60, 64, 67, 0.15);\n",
              "      fill: #174EA6;\n",
              "    }\n",
              "\n",
              "    .colab-df-buttons div {\n",
              "      margin-bottom: 4px;\n",
              "    }\n",
              "\n",
              "    [theme=dark] .colab-df-convert {\n",
              "      background-color: #3B4455;\n",
              "      fill: #D2E3FC;\n",
              "    }\n",
              "\n",
              "    [theme=dark] .colab-df-convert:hover {\n",
              "      background-color: #434B5C;\n",
              "      box-shadow: 0px 1px 3px 1px rgba(0, 0, 0, 0.15);\n",
              "      filter: drop-shadow(0px 1px 2px rgba(0, 0, 0, 0.3));\n",
              "      fill: #FFFFFF;\n",
              "    }\n",
              "  </style>\n",
              "\n",
              "    <script>\n",
              "      const buttonEl =\n",
              "        document.querySelector('#df-98963d52-d8c1-4683-823a-83717878f185 button.colab-df-convert');\n",
              "      buttonEl.style.display =\n",
              "        google.colab.kernel.accessAllowed ? 'block' : 'none';\n",
              "\n",
              "      async function convertToInteractive(key) {\n",
              "        const element = document.querySelector('#df-98963d52-d8c1-4683-823a-83717878f185');\n",
              "        const dataTable =\n",
              "          await google.colab.kernel.invokeFunction('convertToInteractive',\n",
              "                                                    [key], {});\n",
              "        if (!dataTable) return;\n",
              "\n",
              "        const docLinkHtml = 'Like what you see? Visit the ' +\n",
              "          '<a target=\"_blank\" href=https://colab.research.google.com/notebooks/data_table.ipynb>data table notebook</a>'\n",
              "          + ' to learn more about interactive tables.';\n",
              "        element.innerHTML = '';\n",
              "        dataTable['output_type'] = 'display_data';\n",
              "        await google.colab.output.renderOutput(dataTable, element);\n",
              "        const docLink = document.createElement('div');\n",
              "        docLink.innerHTML = docLinkHtml;\n",
              "        element.appendChild(docLink);\n",
              "      }\n",
              "    </script>\n",
              "  </div>\n",
              "\n",
              "\n",
              "<div id=\"df-856a24bd-6949-4ae3-8f61-f1b48ec1be82\">\n",
              "  <button class=\"colab-df-quickchart\" onclick=\"quickchart('df-856a24bd-6949-4ae3-8f61-f1b48ec1be82')\"\n",
              "            title=\"Suggest charts\"\n",
              "            style=\"display:none;\">\n",
              "\n",
              "<svg xmlns=\"http://www.w3.org/2000/svg\" height=\"24px\"viewBox=\"0 0 24 24\"\n",
              "     width=\"24px\">\n",
              "    <g>\n",
              "        <path d=\"M19 3H5c-1.1 0-2 .9-2 2v14c0 1.1.9 2 2 2h14c1.1 0 2-.9 2-2V5c0-1.1-.9-2-2-2zM9 17H7v-7h2v7zm4 0h-2V7h2v10zm4 0h-2v-4h2v4z\"/>\n",
              "    </g>\n",
              "</svg>\n",
              "  </button>\n",
              "\n",
              "<style>\n",
              "  .colab-df-quickchart {\n",
              "      --bg-color: #E8F0FE;\n",
              "      --fill-color: #1967D2;\n",
              "      --hover-bg-color: #E2EBFA;\n",
              "      --hover-fill-color: #174EA6;\n",
              "      --disabled-fill-color: #AAA;\n",
              "      --disabled-bg-color: #DDD;\n",
              "  }\n",
              "\n",
              "  [theme=dark] .colab-df-quickchart {\n",
              "      --bg-color: #3B4455;\n",
              "      --fill-color: #D2E3FC;\n",
              "      --hover-bg-color: #434B5C;\n",
              "      --hover-fill-color: #FFFFFF;\n",
              "      --disabled-bg-color: #3B4455;\n",
              "      --disabled-fill-color: #666;\n",
              "  }\n",
              "\n",
              "  .colab-df-quickchart {\n",
              "    background-color: var(--bg-color);\n",
              "    border: none;\n",
              "    border-radius: 50%;\n",
              "    cursor: pointer;\n",
              "    display: none;\n",
              "    fill: var(--fill-color);\n",
              "    height: 32px;\n",
              "    padding: 0;\n",
              "    width: 32px;\n",
              "  }\n",
              "\n",
              "  .colab-df-quickchart:hover {\n",
              "    background-color: var(--hover-bg-color);\n",
              "    box-shadow: 0 1px 2px rgba(60, 64, 67, 0.3), 0 1px 3px 1px rgba(60, 64, 67, 0.15);\n",
              "    fill: var(--button-hover-fill-color);\n",
              "  }\n",
              "\n",
              "  .colab-df-quickchart-complete:disabled,\n",
              "  .colab-df-quickchart-complete:disabled:hover {\n",
              "    background-color: var(--disabled-bg-color);\n",
              "    fill: var(--disabled-fill-color);\n",
              "    box-shadow: none;\n",
              "  }\n",
              "\n",
              "  .colab-df-spinner {\n",
              "    border: 2px solid var(--fill-color);\n",
              "    border-color: transparent;\n",
              "    border-bottom-color: var(--fill-color);\n",
              "    animation:\n",
              "      spin 1s steps(1) infinite;\n",
              "  }\n",
              "\n",
              "  @keyframes spin {\n",
              "    0% {\n",
              "      border-color: transparent;\n",
              "      border-bottom-color: var(--fill-color);\n",
              "      border-left-color: var(--fill-color);\n",
              "    }\n",
              "    20% {\n",
              "      border-color: transparent;\n",
              "      border-left-color: var(--fill-color);\n",
              "      border-top-color: var(--fill-color);\n",
              "    }\n",
              "    30% {\n",
              "      border-color: transparent;\n",
              "      border-left-color: var(--fill-color);\n",
              "      border-top-color: var(--fill-color);\n",
              "      border-right-color: var(--fill-color);\n",
              "    }\n",
              "    40% {\n",
              "      border-color: transparent;\n",
              "      border-right-color: var(--fill-color);\n",
              "      border-top-color: var(--fill-color);\n",
              "    }\n",
              "    60% {\n",
              "      border-color: transparent;\n",
              "      border-right-color: var(--fill-color);\n",
              "    }\n",
              "    80% {\n",
              "      border-color: transparent;\n",
              "      border-right-color: var(--fill-color);\n",
              "      border-bottom-color: var(--fill-color);\n",
              "    }\n",
              "    90% {\n",
              "      border-color: transparent;\n",
              "      border-bottom-color: var(--fill-color);\n",
              "    }\n",
              "  }\n",
              "</style>\n",
              "\n",
              "  <script>\n",
              "    async function quickchart(key) {\n",
              "      const quickchartButtonEl =\n",
              "        document.querySelector('#' + key + ' button');\n",
              "      quickchartButtonEl.disabled = true;  // To prevent multiple clicks.\n",
              "      quickchartButtonEl.classList.add('colab-df-spinner');\n",
              "      try {\n",
              "        const charts = await google.colab.kernel.invokeFunction(\n",
              "            'suggestCharts', [key], {});\n",
              "      } catch (error) {\n",
              "        console.error('Error during call to suggestCharts:', error);\n",
              "      }\n",
              "      quickchartButtonEl.classList.remove('colab-df-spinner');\n",
              "      quickchartButtonEl.classList.add('colab-df-quickchart-complete');\n",
              "    }\n",
              "    (() => {\n",
              "      let quickchartButtonEl =\n",
              "        document.querySelector('#df-856a24bd-6949-4ae3-8f61-f1b48ec1be82 button');\n",
              "      quickchartButtonEl.style.display =\n",
              "        google.colab.kernel.accessAllowed ? 'block' : 'none';\n",
              "    })();\n",
              "  </script>\n",
              "</div>\n",
              "\n",
              "    </div>\n",
              "  </div>\n"
            ],
            "application/vnd.google.colaboratory.intrinsic+json": {
              "type": "dataframe",
              "variable_name": "train_set"
            }
          },
          "metadata": {},
          "execution_count": 3
        }
      ]
    },
    {
      "cell_type": "code",
      "source": [
        "test_set = pd.read_csv('drive/MyDrive/creditCardFraud/Data/data_test.csv')\n",
        "test_set.head(5)"
      ],
      "metadata": {
        "colab": {
          "base_uri": "https://localhost:8080/",
          "height": 481
        },
        "id": "0ClkCMPhM3mT",
        "outputId": "2a4e2e67-52d7-4e38-e80c-0ce040cd5d04",
        "execution": {
          "iopub.status.busy": "2024-03-29T15:04:12.581208Z",
          "iopub.execute_input": "2024-03-29T15:04:12.581667Z",
          "iopub.status.idle": "2024-03-29T15:04:17.269571Z",
          "shell.execute_reply.started": "2024-03-29T15:04:12.581617Z",
          "shell.execute_reply": "2024-03-29T15:04:17.268668Z"
        },
        "trusted": true
      },
      "execution_count": 4,
      "outputs": [
        {
          "output_type": "execute_result",
          "data": {
            "text/plain": [
              "   Unnamed: 0 trans_date_trans_time            cc_num  \\\n",
              "0           0   2020-06-21 12:14:25  2291163933867244   \n",
              "1           1   2020-06-21 12:14:33  3573030041201292   \n",
              "2           2   2020-06-21 12:14:53  3598215285024754   \n",
              "3           3   2020-06-21 12:15:15  3591919803438423   \n",
              "4           4   2020-06-21 12:15:17  3526826139003047   \n",
              "\n",
              "                               merchant        category    amt   first  \\\n",
              "0                 fraud_Kirlin and Sons   personal_care   2.86    Jeff   \n",
              "1                  fraud_Sporer-Keebler   personal_care  29.84  Joanne   \n",
              "2  fraud_Swaniawski, Nitzsche and Welch  health_fitness  41.28  Ashley   \n",
              "3                     fraud_Haley Group        misc_pos  60.05   Brian   \n",
              "4                 fraud_Johnston-Casper          travel   3.19  Nathan   \n",
              "\n",
              "       last gender                       street  ...      lat      long  \\\n",
              "0   Elliott      M            351 Darlene Green  ...  33.9659  -80.9355   \n",
              "1  Williams      F             3638 Marsh Union  ...  40.3207 -110.4360   \n",
              "2     Lopez      F         9333 Valentine Point  ...  40.6729  -73.5365   \n",
              "3  Williams      M  32941 Krystal Mill Apt. 552  ...  28.5697  -80.8191   \n",
              "4    Massey      M     5783 Evan Roads Apt. 465  ...  44.2529  -85.0170   \n",
              "\n",
              "   city_pop                     job         dob  \\\n",
              "0    333497     Mechanical engineer  1968-03-19   \n",
              "1       302  Sales professional, IT  1990-01-17   \n",
              "2     34496       Librarian, public  1970-10-21   \n",
              "3     54767            Set designer  1987-07-25   \n",
              "4      1126      Furniture designer  1955-07-06   \n",
              "\n",
              "                          trans_num   unix_time  merch_lat  merch_long  \\\n",
              "0  2da90c7d74bd46a0caf3777415b3ebd3  1371816865  33.986391  -81.200714   \n",
              "1  324cc204407e99f51b0d6ca0055005e7  1371816873  39.450498 -109.960431   \n",
              "2  c81755dbbbea9d5c77f094348a7579be  1371816893  40.495810  -74.196111   \n",
              "3  2159175b9efe66dc301f149d3d5abf8c  1371816915  28.812398  -80.883061   \n",
              "4  57ff021bd3f328f8738bb535c302a31b  1371816917  44.959148  -85.884734   \n",
              "\n",
              "   is_fraud  \n",
              "0         0  \n",
              "1         0  \n",
              "2         0  \n",
              "3         0  \n",
              "4         0  \n",
              "\n",
              "[5 rows x 23 columns]"
            ],
            "text/html": [
              "\n",
              "  <div id=\"df-408aa18c-c065-448f-b1b5-f62ff46dd326\" class=\"colab-df-container\">\n",
              "    <div>\n",
              "<style scoped>\n",
              "    .dataframe tbody tr th:only-of-type {\n",
              "        vertical-align: middle;\n",
              "    }\n",
              "\n",
              "    .dataframe tbody tr th {\n",
              "        vertical-align: top;\n",
              "    }\n",
              "\n",
              "    .dataframe thead th {\n",
              "        text-align: right;\n",
              "    }\n",
              "</style>\n",
              "<table border=\"1\" class=\"dataframe\">\n",
              "  <thead>\n",
              "    <tr style=\"text-align: right;\">\n",
              "      <th></th>\n",
              "      <th>Unnamed: 0</th>\n",
              "      <th>trans_date_trans_time</th>\n",
              "      <th>cc_num</th>\n",
              "      <th>merchant</th>\n",
              "      <th>category</th>\n",
              "      <th>amt</th>\n",
              "      <th>first</th>\n",
              "      <th>last</th>\n",
              "      <th>gender</th>\n",
              "      <th>street</th>\n",
              "      <th>...</th>\n",
              "      <th>lat</th>\n",
              "      <th>long</th>\n",
              "      <th>city_pop</th>\n",
              "      <th>job</th>\n",
              "      <th>dob</th>\n",
              "      <th>trans_num</th>\n",
              "      <th>unix_time</th>\n",
              "      <th>merch_lat</th>\n",
              "      <th>merch_long</th>\n",
              "      <th>is_fraud</th>\n",
              "    </tr>\n",
              "  </thead>\n",
              "  <tbody>\n",
              "    <tr>\n",
              "      <th>0</th>\n",
              "      <td>0</td>\n",
              "      <td>2020-06-21 12:14:25</td>\n",
              "      <td>2291163933867244</td>\n",
              "      <td>fraud_Kirlin and Sons</td>\n",
              "      <td>personal_care</td>\n",
              "      <td>2.86</td>\n",
              "      <td>Jeff</td>\n",
              "      <td>Elliott</td>\n",
              "      <td>M</td>\n",
              "      <td>351 Darlene Green</td>\n",
              "      <td>...</td>\n",
              "      <td>33.9659</td>\n",
              "      <td>-80.9355</td>\n",
              "      <td>333497</td>\n",
              "      <td>Mechanical engineer</td>\n",
              "      <td>1968-03-19</td>\n",
              "      <td>2da90c7d74bd46a0caf3777415b3ebd3</td>\n",
              "      <td>1371816865</td>\n",
              "      <td>33.986391</td>\n",
              "      <td>-81.200714</td>\n",
              "      <td>0</td>\n",
              "    </tr>\n",
              "    <tr>\n",
              "      <th>1</th>\n",
              "      <td>1</td>\n",
              "      <td>2020-06-21 12:14:33</td>\n",
              "      <td>3573030041201292</td>\n",
              "      <td>fraud_Sporer-Keebler</td>\n",
              "      <td>personal_care</td>\n",
              "      <td>29.84</td>\n",
              "      <td>Joanne</td>\n",
              "      <td>Williams</td>\n",
              "      <td>F</td>\n",
              "      <td>3638 Marsh Union</td>\n",
              "      <td>...</td>\n",
              "      <td>40.3207</td>\n",
              "      <td>-110.4360</td>\n",
              "      <td>302</td>\n",
              "      <td>Sales professional, IT</td>\n",
              "      <td>1990-01-17</td>\n",
              "      <td>324cc204407e99f51b0d6ca0055005e7</td>\n",
              "      <td>1371816873</td>\n",
              "      <td>39.450498</td>\n",
              "      <td>-109.960431</td>\n",
              "      <td>0</td>\n",
              "    </tr>\n",
              "    <tr>\n",
              "      <th>2</th>\n",
              "      <td>2</td>\n",
              "      <td>2020-06-21 12:14:53</td>\n",
              "      <td>3598215285024754</td>\n",
              "      <td>fraud_Swaniawski, Nitzsche and Welch</td>\n",
              "      <td>health_fitness</td>\n",
              "      <td>41.28</td>\n",
              "      <td>Ashley</td>\n",
              "      <td>Lopez</td>\n",
              "      <td>F</td>\n",
              "      <td>9333 Valentine Point</td>\n",
              "      <td>...</td>\n",
              "      <td>40.6729</td>\n",
              "      <td>-73.5365</td>\n",
              "      <td>34496</td>\n",
              "      <td>Librarian, public</td>\n",
              "      <td>1970-10-21</td>\n",
              "      <td>c81755dbbbea9d5c77f094348a7579be</td>\n",
              "      <td>1371816893</td>\n",
              "      <td>40.495810</td>\n",
              "      <td>-74.196111</td>\n",
              "      <td>0</td>\n",
              "    </tr>\n",
              "    <tr>\n",
              "      <th>3</th>\n",
              "      <td>3</td>\n",
              "      <td>2020-06-21 12:15:15</td>\n",
              "      <td>3591919803438423</td>\n",
              "      <td>fraud_Haley Group</td>\n",
              "      <td>misc_pos</td>\n",
              "      <td>60.05</td>\n",
              "      <td>Brian</td>\n",
              "      <td>Williams</td>\n",
              "      <td>M</td>\n",
              "      <td>32941 Krystal Mill Apt. 552</td>\n",
              "      <td>...</td>\n",
              "      <td>28.5697</td>\n",
              "      <td>-80.8191</td>\n",
              "      <td>54767</td>\n",
              "      <td>Set designer</td>\n",
              "      <td>1987-07-25</td>\n",
              "      <td>2159175b9efe66dc301f149d3d5abf8c</td>\n",
              "      <td>1371816915</td>\n",
              "      <td>28.812398</td>\n",
              "      <td>-80.883061</td>\n",
              "      <td>0</td>\n",
              "    </tr>\n",
              "    <tr>\n",
              "      <th>4</th>\n",
              "      <td>4</td>\n",
              "      <td>2020-06-21 12:15:17</td>\n",
              "      <td>3526826139003047</td>\n",
              "      <td>fraud_Johnston-Casper</td>\n",
              "      <td>travel</td>\n",
              "      <td>3.19</td>\n",
              "      <td>Nathan</td>\n",
              "      <td>Massey</td>\n",
              "      <td>M</td>\n",
              "      <td>5783 Evan Roads Apt. 465</td>\n",
              "      <td>...</td>\n",
              "      <td>44.2529</td>\n",
              "      <td>-85.0170</td>\n",
              "      <td>1126</td>\n",
              "      <td>Furniture designer</td>\n",
              "      <td>1955-07-06</td>\n",
              "      <td>57ff021bd3f328f8738bb535c302a31b</td>\n",
              "      <td>1371816917</td>\n",
              "      <td>44.959148</td>\n",
              "      <td>-85.884734</td>\n",
              "      <td>0</td>\n",
              "    </tr>\n",
              "  </tbody>\n",
              "</table>\n",
              "<p>5 rows × 23 columns</p>\n",
              "</div>\n",
              "    <div class=\"colab-df-buttons\">\n",
              "\n",
              "  <div class=\"colab-df-container\">\n",
              "    <button class=\"colab-df-convert\" onclick=\"convertToInteractive('df-408aa18c-c065-448f-b1b5-f62ff46dd326')\"\n",
              "            title=\"Convert this dataframe to an interactive table.\"\n",
              "            style=\"display:none;\">\n",
              "\n",
              "  <svg xmlns=\"http://www.w3.org/2000/svg\" height=\"24px\" viewBox=\"0 -960 960 960\">\n",
              "    <path d=\"M120-120v-720h720v720H120Zm60-500h600v-160H180v160Zm220 220h160v-160H400v160Zm0 220h160v-160H400v160ZM180-400h160v-160H180v160Zm440 0h160v-160H620v160ZM180-180h160v-160H180v160Zm440 0h160v-160H620v160Z\"/>\n",
              "  </svg>\n",
              "    </button>\n",
              "\n",
              "  <style>\n",
              "    .colab-df-container {\n",
              "      display:flex;\n",
              "      gap: 12px;\n",
              "    }\n",
              "\n",
              "    .colab-df-convert {\n",
              "      background-color: #E8F0FE;\n",
              "      border: none;\n",
              "      border-radius: 50%;\n",
              "      cursor: pointer;\n",
              "      display: none;\n",
              "      fill: #1967D2;\n",
              "      height: 32px;\n",
              "      padding: 0 0 0 0;\n",
              "      width: 32px;\n",
              "    }\n",
              "\n",
              "    .colab-df-convert:hover {\n",
              "      background-color: #E2EBFA;\n",
              "      box-shadow: 0px 1px 2px rgba(60, 64, 67, 0.3), 0px 1px 3px 1px rgba(60, 64, 67, 0.15);\n",
              "      fill: #174EA6;\n",
              "    }\n",
              "\n",
              "    .colab-df-buttons div {\n",
              "      margin-bottom: 4px;\n",
              "    }\n",
              "\n",
              "    [theme=dark] .colab-df-convert {\n",
              "      background-color: #3B4455;\n",
              "      fill: #D2E3FC;\n",
              "    }\n",
              "\n",
              "    [theme=dark] .colab-df-convert:hover {\n",
              "      background-color: #434B5C;\n",
              "      box-shadow: 0px 1px 3px 1px rgba(0, 0, 0, 0.15);\n",
              "      filter: drop-shadow(0px 1px 2px rgba(0, 0, 0, 0.3));\n",
              "      fill: #FFFFFF;\n",
              "    }\n",
              "  </style>\n",
              "\n",
              "    <script>\n",
              "      const buttonEl =\n",
              "        document.querySelector('#df-408aa18c-c065-448f-b1b5-f62ff46dd326 button.colab-df-convert');\n",
              "      buttonEl.style.display =\n",
              "        google.colab.kernel.accessAllowed ? 'block' : 'none';\n",
              "\n",
              "      async function convertToInteractive(key) {\n",
              "        const element = document.querySelector('#df-408aa18c-c065-448f-b1b5-f62ff46dd326');\n",
              "        const dataTable =\n",
              "          await google.colab.kernel.invokeFunction('convertToInteractive',\n",
              "                                                    [key], {});\n",
              "        if (!dataTable) return;\n",
              "\n",
              "        const docLinkHtml = 'Like what you see? Visit the ' +\n",
              "          '<a target=\"_blank\" href=https://colab.research.google.com/notebooks/data_table.ipynb>data table notebook</a>'\n",
              "          + ' to learn more about interactive tables.';\n",
              "        element.innerHTML = '';\n",
              "        dataTable['output_type'] = 'display_data';\n",
              "        await google.colab.output.renderOutput(dataTable, element);\n",
              "        const docLink = document.createElement('div');\n",
              "        docLink.innerHTML = docLinkHtml;\n",
              "        element.appendChild(docLink);\n",
              "      }\n",
              "    </script>\n",
              "  </div>\n",
              "\n",
              "\n",
              "<div id=\"df-a2560ab3-a10d-421d-9889-cc32e91dcd0e\">\n",
              "  <button class=\"colab-df-quickchart\" onclick=\"quickchart('df-a2560ab3-a10d-421d-9889-cc32e91dcd0e')\"\n",
              "            title=\"Suggest charts\"\n",
              "            style=\"display:none;\">\n",
              "\n",
              "<svg xmlns=\"http://www.w3.org/2000/svg\" height=\"24px\"viewBox=\"0 0 24 24\"\n",
              "     width=\"24px\">\n",
              "    <g>\n",
              "        <path d=\"M19 3H5c-1.1 0-2 .9-2 2v14c0 1.1.9 2 2 2h14c1.1 0 2-.9 2-2V5c0-1.1-.9-2-2-2zM9 17H7v-7h2v7zm4 0h-2V7h2v10zm4 0h-2v-4h2v4z\"/>\n",
              "    </g>\n",
              "</svg>\n",
              "  </button>\n",
              "\n",
              "<style>\n",
              "  .colab-df-quickchart {\n",
              "      --bg-color: #E8F0FE;\n",
              "      --fill-color: #1967D2;\n",
              "      --hover-bg-color: #E2EBFA;\n",
              "      --hover-fill-color: #174EA6;\n",
              "      --disabled-fill-color: #AAA;\n",
              "      --disabled-bg-color: #DDD;\n",
              "  }\n",
              "\n",
              "  [theme=dark] .colab-df-quickchart {\n",
              "      --bg-color: #3B4455;\n",
              "      --fill-color: #D2E3FC;\n",
              "      --hover-bg-color: #434B5C;\n",
              "      --hover-fill-color: #FFFFFF;\n",
              "      --disabled-bg-color: #3B4455;\n",
              "      --disabled-fill-color: #666;\n",
              "  }\n",
              "\n",
              "  .colab-df-quickchart {\n",
              "    background-color: var(--bg-color);\n",
              "    border: none;\n",
              "    border-radius: 50%;\n",
              "    cursor: pointer;\n",
              "    display: none;\n",
              "    fill: var(--fill-color);\n",
              "    height: 32px;\n",
              "    padding: 0;\n",
              "    width: 32px;\n",
              "  }\n",
              "\n",
              "  .colab-df-quickchart:hover {\n",
              "    background-color: var(--hover-bg-color);\n",
              "    box-shadow: 0 1px 2px rgba(60, 64, 67, 0.3), 0 1px 3px 1px rgba(60, 64, 67, 0.15);\n",
              "    fill: var(--button-hover-fill-color);\n",
              "  }\n",
              "\n",
              "  .colab-df-quickchart-complete:disabled,\n",
              "  .colab-df-quickchart-complete:disabled:hover {\n",
              "    background-color: var(--disabled-bg-color);\n",
              "    fill: var(--disabled-fill-color);\n",
              "    box-shadow: none;\n",
              "  }\n",
              "\n",
              "  .colab-df-spinner {\n",
              "    border: 2px solid var(--fill-color);\n",
              "    border-color: transparent;\n",
              "    border-bottom-color: var(--fill-color);\n",
              "    animation:\n",
              "      spin 1s steps(1) infinite;\n",
              "  }\n",
              "\n",
              "  @keyframes spin {\n",
              "    0% {\n",
              "      border-color: transparent;\n",
              "      border-bottom-color: var(--fill-color);\n",
              "      border-left-color: var(--fill-color);\n",
              "    }\n",
              "    20% {\n",
              "      border-color: transparent;\n",
              "      border-left-color: var(--fill-color);\n",
              "      border-top-color: var(--fill-color);\n",
              "    }\n",
              "    30% {\n",
              "      border-color: transparent;\n",
              "      border-left-color: var(--fill-color);\n",
              "      border-top-color: var(--fill-color);\n",
              "      border-right-color: var(--fill-color);\n",
              "    }\n",
              "    40% {\n",
              "      border-color: transparent;\n",
              "      border-right-color: var(--fill-color);\n",
              "      border-top-color: var(--fill-color);\n",
              "    }\n",
              "    60% {\n",
              "      border-color: transparent;\n",
              "      border-right-color: var(--fill-color);\n",
              "    }\n",
              "    80% {\n",
              "      border-color: transparent;\n",
              "      border-right-color: var(--fill-color);\n",
              "      border-bottom-color: var(--fill-color);\n",
              "    }\n",
              "    90% {\n",
              "      border-color: transparent;\n",
              "      border-bottom-color: var(--fill-color);\n",
              "    }\n",
              "  }\n",
              "</style>\n",
              "\n",
              "  <script>\n",
              "    async function quickchart(key) {\n",
              "      const quickchartButtonEl =\n",
              "        document.querySelector('#' + key + ' button');\n",
              "      quickchartButtonEl.disabled = true;  // To prevent multiple clicks.\n",
              "      quickchartButtonEl.classList.add('colab-df-spinner');\n",
              "      try {\n",
              "        const charts = await google.colab.kernel.invokeFunction(\n",
              "            'suggestCharts', [key], {});\n",
              "      } catch (error) {\n",
              "        console.error('Error during call to suggestCharts:', error);\n",
              "      }\n",
              "      quickchartButtonEl.classList.remove('colab-df-spinner');\n",
              "      quickchartButtonEl.classList.add('colab-df-quickchart-complete');\n",
              "    }\n",
              "    (() => {\n",
              "      let quickchartButtonEl =\n",
              "        document.querySelector('#df-a2560ab3-a10d-421d-9889-cc32e91dcd0e button');\n",
              "      quickchartButtonEl.style.display =\n",
              "        google.colab.kernel.accessAllowed ? 'block' : 'none';\n",
              "    })();\n",
              "  </script>\n",
              "</div>\n",
              "\n",
              "    </div>\n",
              "  </div>\n"
            ],
            "application/vnd.google.colaboratory.intrinsic+json": {
              "type": "dataframe",
              "variable_name": "test_set"
            }
          },
          "metadata": {},
          "execution_count": 4
        }
      ]
    },
    {
      "cell_type": "code",
      "source": [
        "train_set.info()"
      ],
      "metadata": {
        "colab": {
          "base_uri": "https://localhost:8080/"
        },
        "id": "VOJPYeUdNNeb",
        "outputId": "d866fd6c-075c-4658-c5f8-b4349a1b4d78",
        "execution": {
          "iopub.status.busy": "2024-03-29T15:04:17.271990Z",
          "iopub.execute_input": "2024-03-29T15:04:17.272603Z",
          "iopub.status.idle": "2024-03-29T15:04:18.035384Z",
          "shell.execute_reply.started": "2024-03-29T15:04:17.272570Z",
          "shell.execute_reply": "2024-03-29T15:04:18.033849Z"
        },
        "trusted": true
      },
      "execution_count": 5,
      "outputs": [
        {
          "output_type": "stream",
          "name": "stdout",
          "text": [
            "<class 'pandas.core.frame.DataFrame'>\n",
            "RangeIndex: 1296675 entries, 0 to 1296674\n",
            "Data columns (total 24 columns):\n",
            " #   Column                 Non-Null Count    Dtype  \n",
            "---  ------                 --------------    -----  \n",
            " 0   Unnamed: 0             1296675 non-null  int64  \n",
            " 1   trans_date_trans_time  1296675 non-null  object \n",
            " 2   cc_num                 1296675 non-null  int64  \n",
            " 3   merchant               1296675 non-null  object \n",
            " 4   category               1296675 non-null  object \n",
            " 5   amt                    1296675 non-null  float64\n",
            " 6   first                  1296675 non-null  object \n",
            " 7   last                   1296675 non-null  object \n",
            " 8   gender                 1296675 non-null  object \n",
            " 9   street                 1296675 non-null  object \n",
            " 10  city                   1296675 non-null  object \n",
            " 11  state                  1296675 non-null  object \n",
            " 12  zip                    1296675 non-null  int64  \n",
            " 13  lat                    1296675 non-null  float64\n",
            " 14  long                   1296675 non-null  float64\n",
            " 15  city_pop               1296675 non-null  int64  \n",
            " 16  job                    1296675 non-null  object \n",
            " 17  dob                    1296675 non-null  object \n",
            " 18  trans_num              1296675 non-null  object \n",
            " 19  unix_time              1296675 non-null  int64  \n",
            " 20  merch_lat              1296675 non-null  float64\n",
            " 21  merch_long             1296675 non-null  float64\n",
            " 22  is_fraud               1296675 non-null  int64  \n",
            " 23  merchant_id            1296675 non-null  int64  \n",
            "dtypes: float64(5), int64(7), object(12)\n",
            "memory usage: 237.4+ MB\n"
          ]
        }
      ]
    },
    {
      "cell_type": "code",
      "source": [
        "train_set.shape"
      ],
      "metadata": {
        "colab": {
          "base_uri": "https://localhost:8080/"
        },
        "id": "XDRbFFL1UvY0",
        "outputId": "81dcdfd2-32a8-4b8e-c4e2-9d8f514ae729",
        "execution": {
          "iopub.status.busy": "2024-03-29T15:04:18.036934Z",
          "iopub.execute_input": "2024-03-29T15:04:18.037404Z",
          "iopub.status.idle": "2024-03-29T15:04:18.044696Z",
          "shell.execute_reply.started": "2024-03-29T15:04:18.037365Z",
          "shell.execute_reply": "2024-03-29T15:04:18.043825Z"
        },
        "trusted": true
      },
      "execution_count": 6,
      "outputs": [
        {
          "output_type": "execute_result",
          "data": {
            "text/plain": [
              "(1296675, 24)"
            ]
          },
          "metadata": {},
          "execution_count": 6
        }
      ]
    },
    {
      "cell_type": "code",
      "source": [
        "train_set.isnull().sum()"
      ],
      "metadata": {
        "colab": {
          "base_uri": "https://localhost:8080/"
        },
        "id": "VFQpUqKwVTjZ",
        "outputId": "ebaf5c75-6de3-4ceb-9d1b-05c31bae0d4b",
        "execution": {
          "iopub.status.busy": "2024-03-29T15:04:18.045882Z",
          "iopub.execute_input": "2024-03-29T15:04:18.046771Z",
          "iopub.status.idle": "2024-03-29T15:04:18.797621Z",
          "shell.execute_reply.started": "2024-03-29T15:04:18.046741Z",
          "shell.execute_reply": "2024-03-29T15:04:18.796515Z"
        },
        "trusted": true
      },
      "execution_count": 7,
      "outputs": [
        {
          "output_type": "execute_result",
          "data": {
            "text/plain": [
              "Unnamed: 0               0\n",
              "trans_date_trans_time    0\n",
              "cc_num                   0\n",
              "merchant                 0\n",
              "category                 0\n",
              "amt                      0\n",
              "first                    0\n",
              "last                     0\n",
              "gender                   0\n",
              "street                   0\n",
              "city                     0\n",
              "state                    0\n",
              "zip                      0\n",
              "lat                      0\n",
              "long                     0\n",
              "city_pop                 0\n",
              "job                      0\n",
              "dob                      0\n",
              "trans_num                0\n",
              "unix_time                0\n",
              "merch_lat                0\n",
              "merch_long               0\n",
              "is_fraud                 0\n",
              "merchant_id              0\n",
              "dtype: int64"
            ]
          },
          "metadata": {},
          "execution_count": 7
        }
      ]
    },
    {
      "cell_type": "markdown",
      "source": [
        "## Preprocessing"
      ],
      "metadata": {
        "id": "4uUVmK-MNlLH"
      }
    },
    {
      "cell_type": "code",
      "source": [
        "#Drop irrelevant columns\n",
        "train_set =train_set.drop(['Unnamed: 0','unix_time'],axis=1)"
      ],
      "metadata": {
        "id": "kFXrqx46Noe2",
        "execution": {
          "iopub.status.busy": "2024-03-29T15:04:18.798904Z",
          "iopub.execute_input": "2024-03-29T15:04:18.799248Z",
          "iopub.status.idle": "2024-03-29T15:04:18.962439Z",
          "shell.execute_reply.started": "2024-03-29T15:04:18.799218Z",
          "shell.execute_reply": "2024-03-29T15:04:18.961301Z"
        },
        "trusted": true
      },
      "execution_count": 8,
      "outputs": []
    },
    {
      "cell_type": "code",
      "source": [
        "df = train_set"
      ],
      "metadata": {
        "id": "LBmaMr0HNsHH",
        "execution": {
          "iopub.status.busy": "2024-03-29T15:04:18.963683Z",
          "iopub.execute_input": "2024-03-29T15:04:18.964005Z",
          "iopub.status.idle": "2024-03-29T15:04:18.968430Z",
          "shell.execute_reply.started": "2024-03-29T15:04:18.963978Z",
          "shell.execute_reply": "2024-03-29T15:04:18.967559Z"
        },
        "trusted": true
      },
      "execution_count": 9,
      "outputs": []
    },
    {
      "cell_type": "code",
      "source": [
        "df.drop_duplicates(inplace=True)"
      ],
      "metadata": {
        "id": "bosWqE5sTH4F",
        "execution": {
          "iopub.status.busy": "2024-03-29T15:04:18.969621Z",
          "iopub.execute_input": "2024-03-29T15:04:18.969969Z",
          "iopub.status.idle": "2024-03-29T15:04:21.788488Z",
          "shell.execute_reply.started": "2024-03-29T15:04:18.969942Z",
          "shell.execute_reply": "2024-03-29T15:04:21.787342Z"
        },
        "trusted": true
      },
      "execution_count": 10,
      "outputs": []
    },
    {
      "cell_type": "code",
      "source": [
        "# convert datetime columns\n",
        "df['trans_date_trans_time'] = pd.to_datetime(df['trans_date_trans_time'],infer_datetime_format=True)\n",
        "df['dob'] = pd.to_datetime(df['dob'],infer_datetime_format= True)"
      ],
      "metadata": {
        "id": "kujHhfsNO3oA",
        "execution": {
          "iopub.status.busy": "2024-03-29T15:04:21.790532Z",
          "iopub.execute_input": "2024-03-29T15:04:21.790959Z",
          "iopub.status.idle": "2024-03-29T15:04:22.397011Z",
          "shell.execute_reply.started": "2024-03-29T15:04:21.790921Z",
          "shell.execute_reply": "2024-03-29T15:04:22.395649Z"
        },
        "trusted": true
      },
      "execution_count": 11,
      "outputs": []
    },
    {
      "cell_type": "code",
      "source": [
        "# Add column\n",
        "df['hour_of_day'] = df.trans_date_trans_time.dt.hour\n",
        "df['day']=df['trans_date_trans_time'].dt.dayofweek\n",
        "df['month']=df['trans_date_trans_time'].dt.month\n",
        "df['age'] = ((df['trans_date_trans_time'] - df['dob'])/ pd.Timedelta(days=365)).astype(int)\n"
      ],
      "metadata": {
        "id": "NN2Vzps-Qq2A",
        "execution": {
          "iopub.status.busy": "2024-03-29T15:04:22.398290Z",
          "iopub.execute_input": "2024-03-29T15:04:22.398637Z",
          "iopub.status.idle": "2024-03-29T15:04:22.549083Z",
          "shell.execute_reply.started": "2024-03-29T15:04:22.398607Z",
          "shell.execute_reply": "2024-03-29T15:04:22.547883Z"
        },
        "trusted": true
      },
      "execution_count": 12,
      "outputs": []
    },
    {
      "cell_type": "code",
      "source": [
        "# Convert Dtypes\n",
        "df.cc_num = df.cc_num.astype('category')"
      ],
      "metadata": {
        "id": "HO6VRZAWSGRU",
        "execution": {
          "iopub.status.busy": "2024-03-29T15:04:22.550370Z",
          "iopub.execute_input": "2024-03-29T15:04:22.550738Z",
          "iopub.status.idle": "2024-03-29T15:04:22.573107Z",
          "shell.execute_reply.started": "2024-03-29T15:04:22.550708Z",
          "shell.execute_reply": "2024-03-29T15:04:22.571999Z"
        },
        "trusted": true
      },
      "execution_count": 13,
      "outputs": []
    },
    {
      "cell_type": "code",
      "source": [
        "df.info()"
      ],
      "metadata": {
        "colab": {
          "base_uri": "https://localhost:8080/"
        },
        "id": "xDl8uA3OVPl-",
        "outputId": "77ec5a15-6de2-4e84-83f1-76fd2e48db17",
        "execution": {
          "iopub.status.busy": "2024-03-29T15:04:22.578020Z",
          "iopub.execute_input": "2024-03-29T15:04:22.578362Z",
          "iopub.status.idle": "2024-03-29T15:04:23.212858Z",
          "shell.execute_reply.started": "2024-03-29T15:04:22.578335Z",
          "shell.execute_reply": "2024-03-29T15:04:23.211999Z"
        },
        "trusted": true
      },
      "execution_count": 14,
      "outputs": [
        {
          "output_type": "stream",
          "name": "stdout",
          "text": [
            "<class 'pandas.core.frame.DataFrame'>\n",
            "Int64Index: 1296675 entries, 0 to 1296674\n",
            "Data columns (total 26 columns):\n",
            " #   Column                 Non-Null Count    Dtype         \n",
            "---  ------                 --------------    -----         \n",
            " 0   trans_date_trans_time  1296675 non-null  datetime64[ns]\n",
            " 1   cc_num                 1296675 non-null  category      \n",
            " 2   merchant               1296675 non-null  object        \n",
            " 3   category               1296675 non-null  object        \n",
            " 4   amt                    1296675 non-null  float64       \n",
            " 5   first                  1296675 non-null  object        \n",
            " 6   last                   1296675 non-null  object        \n",
            " 7   gender                 1296675 non-null  object        \n",
            " 8   street                 1296675 non-null  object        \n",
            " 9   city                   1296675 non-null  object        \n",
            " 10  state                  1296675 non-null  object        \n",
            " 11  zip                    1296675 non-null  int64         \n",
            " 12  lat                    1296675 non-null  float64       \n",
            " 13  long                   1296675 non-null  float64       \n",
            " 14  city_pop               1296675 non-null  int64         \n",
            " 15  job                    1296675 non-null  object        \n",
            " 16  dob                    1296675 non-null  datetime64[ns]\n",
            " 17  trans_num              1296675 non-null  object        \n",
            " 18  merch_lat              1296675 non-null  float64       \n",
            " 19  merch_long             1296675 non-null  float64       \n",
            " 20  is_fraud               1296675 non-null  int64         \n",
            " 21  merchant_id            1296675 non-null  int64         \n",
            " 22  hour_of_day            1296675 non-null  int64         \n",
            " 23  day                    1296675 non-null  int64         \n",
            " 24  month                  1296675 non-null  int64         \n",
            " 25  age                    1296675 non-null  int64         \n",
            "dtypes: category(1), datetime64[ns](2), float64(5), int64(8), object(10)\n",
            "memory usage: 259.7+ MB\n"
          ]
        }
      ]
    },
    {
      "cell_type": "markdown",
      "source": [
        "## Data Analysis"
      ],
      "metadata": {
        "id": "z3Kr3zSndjao"
      }
    },
    {
      "cell_type": "code",
      "source": [
        "#Target column statistics\n",
        "\n",
        "\n",
        "labels =['Non Fraud','Fraud']\n",
        "values = df['is_fraud'].value_counts().values.tolist()  #convert series to list of values\n",
        "fig = px.pie(names=labels, values=values, color_discrete_sequence=['lightblue','lightpink'],\n",
        "             title= 'How many people fraud in the transactions?')\n",
        "fig.show()\n"
      ],
      "metadata": {
        "colab": {
          "base_uri": "https://localhost:8080/",
          "height": 542
        },
        "id": "qRdkjPX_eYzs",
        "outputId": "a97d3016-2ce2-4ccd-9151-dc9276a5e88a",
        "execution": {
          "iopub.status.busy": "2024-03-29T15:04:23.214314Z",
          "iopub.execute_input": "2024-03-29T15:04:23.215283Z",
          "iopub.status.idle": "2024-03-29T15:04:25.075688Z",
          "shell.execute_reply.started": "2024-03-29T15:04:23.215248Z",
          "shell.execute_reply": "2024-03-29T15:04:25.074536Z"
        },
        "trusted": true
      },
      "execution_count": 15,
      "outputs": [
        {
          "output_type": "display_data",
          "data": {
            "text/html": [
              "<html>\n",
              "<head><meta charset=\"utf-8\" /></head>\n",
              "<body>\n",
              "    <div>            <script src=\"https://cdnjs.cloudflare.com/ajax/libs/mathjax/2.7.5/MathJax.js?config=TeX-AMS-MML_SVG\"></script><script type=\"text/javascript\">if (window.MathJax && window.MathJax.Hub && window.MathJax.Hub.Config) {window.MathJax.Hub.Config({SVG: {font: \"STIX-Web\"}});}</script>                <script type=\"text/javascript\">window.PlotlyConfig = {MathJaxConfig: 'local'};</script>\n",
              "        <script charset=\"utf-8\" src=\"https://cdn.plot.ly/plotly-2.24.1.min.js\"></script>                <div id=\"b9c94eef-feb3-4808-ac1b-155f4350133e\" class=\"plotly-graph-div\" style=\"height:525px; width:100%;\"></div>            <script type=\"text/javascript\">                                    window.PLOTLYENV=window.PLOTLYENV || {};                                    if (document.getElementById(\"b9c94eef-feb3-4808-ac1b-155f4350133e\")) {                    Plotly.newPlot(                        \"b9c94eef-feb3-4808-ac1b-155f4350133e\",                        [{\"domain\":{\"x\":[0.0,1.0],\"y\":[0.0,1.0]},\"hovertemplate\":\"label=%{label}\\u003cbr\\u003evalue=%{value}\\u003cextra\\u003e\\u003c\\u002fextra\\u003e\",\"labels\":[\"Non Fraud\",\"Fraud\"],\"legendgroup\":\"\",\"name\":\"\",\"showlegend\":true,\"values\":[1289169,7506],\"type\":\"pie\"}],                        {\"template\":{\"data\":{\"histogram2dcontour\":[{\"type\":\"histogram2dcontour\",\"colorbar\":{\"outlinewidth\":0,\"ticks\":\"\"},\"colorscale\":[[0.0,\"#0d0887\"],[0.1111111111111111,\"#46039f\"],[0.2222222222222222,\"#7201a8\"],[0.3333333333333333,\"#9c179e\"],[0.4444444444444444,\"#bd3786\"],[0.5555555555555556,\"#d8576b\"],[0.6666666666666666,\"#ed7953\"],[0.7777777777777778,\"#fb9f3a\"],[0.8888888888888888,\"#fdca26\"],[1.0,\"#f0f921\"]]}],\"choropleth\":[{\"type\":\"choropleth\",\"colorbar\":{\"outlinewidth\":0,\"ticks\":\"\"}}],\"histogram2d\":[{\"type\":\"histogram2d\",\"colorbar\":{\"outlinewidth\":0,\"ticks\":\"\"},\"colorscale\":[[0.0,\"#0d0887\"],[0.1111111111111111,\"#46039f\"],[0.2222222222222222,\"#7201a8\"],[0.3333333333333333,\"#9c179e\"],[0.4444444444444444,\"#bd3786\"],[0.5555555555555556,\"#d8576b\"],[0.6666666666666666,\"#ed7953\"],[0.7777777777777778,\"#fb9f3a\"],[0.8888888888888888,\"#fdca26\"],[1.0,\"#f0f921\"]]}],\"heatmap\":[{\"type\":\"heatmap\",\"colorbar\":{\"outlinewidth\":0,\"ticks\":\"\"},\"colorscale\":[[0.0,\"#0d0887\"],[0.1111111111111111,\"#46039f\"],[0.2222222222222222,\"#7201a8\"],[0.3333333333333333,\"#9c179e\"],[0.4444444444444444,\"#bd3786\"],[0.5555555555555556,\"#d8576b\"],[0.6666666666666666,\"#ed7953\"],[0.7777777777777778,\"#fb9f3a\"],[0.8888888888888888,\"#fdca26\"],[1.0,\"#f0f921\"]]}],\"heatmapgl\":[{\"type\":\"heatmapgl\",\"colorbar\":{\"outlinewidth\":0,\"ticks\":\"\"},\"colorscale\":[[0.0,\"#0d0887\"],[0.1111111111111111,\"#46039f\"],[0.2222222222222222,\"#7201a8\"],[0.3333333333333333,\"#9c179e\"],[0.4444444444444444,\"#bd3786\"],[0.5555555555555556,\"#d8576b\"],[0.6666666666666666,\"#ed7953\"],[0.7777777777777778,\"#fb9f3a\"],[0.8888888888888888,\"#fdca26\"],[1.0,\"#f0f921\"]]}],\"contourcarpet\":[{\"type\":\"contourcarpet\",\"colorbar\":{\"outlinewidth\":0,\"ticks\":\"\"}}],\"contour\":[{\"type\":\"contour\",\"colorbar\":{\"outlinewidth\":0,\"ticks\":\"\"},\"colorscale\":[[0.0,\"#0d0887\"],[0.1111111111111111,\"#46039f\"],[0.2222222222222222,\"#7201a8\"],[0.3333333333333333,\"#9c179e\"],[0.4444444444444444,\"#bd3786\"],[0.5555555555555556,\"#d8576b\"],[0.6666666666666666,\"#ed7953\"],[0.7777777777777778,\"#fb9f3a\"],[0.8888888888888888,\"#fdca26\"],[1.0,\"#f0f921\"]]}],\"surface\":[{\"type\":\"surface\",\"colorbar\":{\"outlinewidth\":0,\"ticks\":\"\"},\"colorscale\":[[0.0,\"#0d0887\"],[0.1111111111111111,\"#46039f\"],[0.2222222222222222,\"#7201a8\"],[0.3333333333333333,\"#9c179e\"],[0.4444444444444444,\"#bd3786\"],[0.5555555555555556,\"#d8576b\"],[0.6666666666666666,\"#ed7953\"],[0.7777777777777778,\"#fb9f3a\"],[0.8888888888888888,\"#fdca26\"],[1.0,\"#f0f921\"]]}],\"mesh3d\":[{\"type\":\"mesh3d\",\"colorbar\":{\"outlinewidth\":0,\"ticks\":\"\"}}],\"scatter\":[{\"fillpattern\":{\"fillmode\":\"overlay\",\"size\":10,\"solidity\":0.2},\"type\":\"scatter\"}],\"parcoords\":[{\"type\":\"parcoords\",\"line\":{\"colorbar\":{\"outlinewidth\":0,\"ticks\":\"\"}}}],\"scatterpolargl\":[{\"type\":\"scatterpolargl\",\"marker\":{\"colorbar\":{\"outlinewidth\":0,\"ticks\":\"\"}}}],\"bar\":[{\"error_x\":{\"color\":\"#2a3f5f\"},\"error_y\":{\"color\":\"#2a3f5f\"},\"marker\":{\"line\":{\"color\":\"#E5ECF6\",\"width\":0.5},\"pattern\":{\"fillmode\":\"overlay\",\"size\":10,\"solidity\":0.2}},\"type\":\"bar\"}],\"scattergeo\":[{\"type\":\"scattergeo\",\"marker\":{\"colorbar\":{\"outlinewidth\":0,\"ticks\":\"\"}}}],\"scatterpolar\":[{\"type\":\"scatterpolar\",\"marker\":{\"colorbar\":{\"outlinewidth\":0,\"ticks\":\"\"}}}],\"histogram\":[{\"marker\":{\"pattern\":{\"fillmode\":\"overlay\",\"size\":10,\"solidity\":0.2}},\"type\":\"histogram\"}],\"scattergl\":[{\"type\":\"scattergl\",\"marker\":{\"colorbar\":{\"outlinewidth\":0,\"ticks\":\"\"}}}],\"scatter3d\":[{\"type\":\"scatter3d\",\"line\":{\"colorbar\":{\"outlinewidth\":0,\"ticks\":\"\"}},\"marker\":{\"colorbar\":{\"outlinewidth\":0,\"ticks\":\"\"}}}],\"scattermapbox\":[{\"type\":\"scattermapbox\",\"marker\":{\"colorbar\":{\"outlinewidth\":0,\"ticks\":\"\"}}}],\"scatterternary\":[{\"type\":\"scatterternary\",\"marker\":{\"colorbar\":{\"outlinewidth\":0,\"ticks\":\"\"}}}],\"scattercarpet\":[{\"type\":\"scattercarpet\",\"marker\":{\"colorbar\":{\"outlinewidth\":0,\"ticks\":\"\"}}}],\"carpet\":[{\"aaxis\":{\"endlinecolor\":\"#2a3f5f\",\"gridcolor\":\"white\",\"linecolor\":\"white\",\"minorgridcolor\":\"white\",\"startlinecolor\":\"#2a3f5f\"},\"baxis\":{\"endlinecolor\":\"#2a3f5f\",\"gridcolor\":\"white\",\"linecolor\":\"white\",\"minorgridcolor\":\"white\",\"startlinecolor\":\"#2a3f5f\"},\"type\":\"carpet\"}],\"table\":[{\"cells\":{\"fill\":{\"color\":\"#EBF0F8\"},\"line\":{\"color\":\"white\"}},\"header\":{\"fill\":{\"color\":\"#C8D4E3\"},\"line\":{\"color\":\"white\"}},\"type\":\"table\"}],\"barpolar\":[{\"marker\":{\"line\":{\"color\":\"#E5ECF6\",\"width\":0.5},\"pattern\":{\"fillmode\":\"overlay\",\"size\":10,\"solidity\":0.2}},\"type\":\"barpolar\"}],\"pie\":[{\"automargin\":true,\"type\":\"pie\"}]},\"layout\":{\"autotypenumbers\":\"strict\",\"colorway\":[\"#636efa\",\"#EF553B\",\"#00cc96\",\"#ab63fa\",\"#FFA15A\",\"#19d3f3\",\"#FF6692\",\"#B6E880\",\"#FF97FF\",\"#FECB52\"],\"font\":{\"color\":\"#2a3f5f\"},\"hovermode\":\"closest\",\"hoverlabel\":{\"align\":\"left\"},\"paper_bgcolor\":\"white\",\"plot_bgcolor\":\"#E5ECF6\",\"polar\":{\"bgcolor\":\"#E5ECF6\",\"angularaxis\":{\"gridcolor\":\"white\",\"linecolor\":\"white\",\"ticks\":\"\"},\"radialaxis\":{\"gridcolor\":\"white\",\"linecolor\":\"white\",\"ticks\":\"\"}},\"ternary\":{\"bgcolor\":\"#E5ECF6\",\"aaxis\":{\"gridcolor\":\"white\",\"linecolor\":\"white\",\"ticks\":\"\"},\"baxis\":{\"gridcolor\":\"white\",\"linecolor\":\"white\",\"ticks\":\"\"},\"caxis\":{\"gridcolor\":\"white\",\"linecolor\":\"white\",\"ticks\":\"\"}},\"coloraxis\":{\"colorbar\":{\"outlinewidth\":0,\"ticks\":\"\"}},\"colorscale\":{\"sequential\":[[0.0,\"#0d0887\"],[0.1111111111111111,\"#46039f\"],[0.2222222222222222,\"#7201a8\"],[0.3333333333333333,\"#9c179e\"],[0.4444444444444444,\"#bd3786\"],[0.5555555555555556,\"#d8576b\"],[0.6666666666666666,\"#ed7953\"],[0.7777777777777778,\"#fb9f3a\"],[0.8888888888888888,\"#fdca26\"],[1.0,\"#f0f921\"]],\"sequentialminus\":[[0.0,\"#0d0887\"],[0.1111111111111111,\"#46039f\"],[0.2222222222222222,\"#7201a8\"],[0.3333333333333333,\"#9c179e\"],[0.4444444444444444,\"#bd3786\"],[0.5555555555555556,\"#d8576b\"],[0.6666666666666666,\"#ed7953\"],[0.7777777777777778,\"#fb9f3a\"],[0.8888888888888888,\"#fdca26\"],[1.0,\"#f0f921\"]],\"diverging\":[[0,\"#8e0152\"],[0.1,\"#c51b7d\"],[0.2,\"#de77ae\"],[0.3,\"#f1b6da\"],[0.4,\"#fde0ef\"],[0.5,\"#f7f7f7\"],[0.6,\"#e6f5d0\"],[0.7,\"#b8e186\"],[0.8,\"#7fbc41\"],[0.9,\"#4d9221\"],[1,\"#276419\"]]},\"xaxis\":{\"gridcolor\":\"white\",\"linecolor\":\"white\",\"ticks\":\"\",\"title\":{\"standoff\":15},\"zerolinecolor\":\"white\",\"automargin\":true,\"zerolinewidth\":2},\"yaxis\":{\"gridcolor\":\"white\",\"linecolor\":\"white\",\"ticks\":\"\",\"title\":{\"standoff\":15},\"zerolinecolor\":\"white\",\"automargin\":true,\"zerolinewidth\":2},\"scene\":{\"xaxis\":{\"backgroundcolor\":\"#E5ECF6\",\"gridcolor\":\"white\",\"linecolor\":\"white\",\"showbackground\":true,\"ticks\":\"\",\"zerolinecolor\":\"white\",\"gridwidth\":2},\"yaxis\":{\"backgroundcolor\":\"#E5ECF6\",\"gridcolor\":\"white\",\"linecolor\":\"white\",\"showbackground\":true,\"ticks\":\"\",\"zerolinecolor\":\"white\",\"gridwidth\":2},\"zaxis\":{\"backgroundcolor\":\"#E5ECF6\",\"gridcolor\":\"white\",\"linecolor\":\"white\",\"showbackground\":true,\"ticks\":\"\",\"zerolinecolor\":\"white\",\"gridwidth\":2}},\"shapedefaults\":{\"line\":{\"color\":\"#2a3f5f\"}},\"annotationdefaults\":{\"arrowcolor\":\"#2a3f5f\",\"arrowhead\":0,\"arrowwidth\":1},\"geo\":{\"bgcolor\":\"white\",\"landcolor\":\"#E5ECF6\",\"subunitcolor\":\"white\",\"showland\":true,\"showlakes\":true,\"lakecolor\":\"white\"},\"title\":{\"x\":0.05},\"mapbox\":{\"style\":\"light\"}}},\"legend\":{\"tracegroupgap\":0},\"title\":{\"text\":\"How many people fraud in the transactions?\"},\"piecolorway\":[\"lightblue\",\"lightpink\"]},                        {\"responsive\": true}                    ).then(function(){\n",
              "                            \n",
              "var gd = document.getElementById('b9c94eef-feb3-4808-ac1b-155f4350133e');\n",
              "var x = new MutationObserver(function (mutations, observer) {{\n",
              "        var display = window.getComputedStyle(gd).display;\n",
              "        if (!display || display === 'none') {{\n",
              "            console.log([gd, 'removed!']);\n",
              "            Plotly.purge(gd);\n",
              "            observer.disconnect();\n",
              "        }}\n",
              "}});\n",
              "\n",
              "// Listen for the removal of the full notebook cells\n",
              "var notebookContainer = gd.closest('#notebook-container');\n",
              "if (notebookContainer) {{\n",
              "    x.observe(notebookContainer, {childList: true});\n",
              "}}\n",
              "\n",
              "// Listen for the clearing of the current output cell\n",
              "var outputEl = gd.closest('.output');\n",
              "if (outputEl) {{\n",
              "    x.observe(outputEl, {childList: true});\n",
              "}}\n",
              "\n",
              "                        })                };                            </script>        </div>\n",
              "</body>\n",
              "</html>"
            ]
          },
          "metadata": {}
        }
      ]
    },
    {
      "cell_type": "markdown",
      "source": [
        "* Observation:\n",
        "In the case of the Credit Card Fraud dataset, severe imbalance is observed.\n",
        "Oversampling or undersampling should be considered."
      ],
      "metadata": {
        "id": "yai2iyNDMc_C"
      }
    },
    {
      "cell_type": "code",
      "source": [
        "# amount vs fraud\n",
        "ax = sns.histplot(data=df[df.amt<=1000],x='amt',hue='is_fraud',stat='percent',multiple='dodge',common_norm=False,bins=25,palette= 'pastel')\n",
        "ax.set_ylabel('Percentage in Each Type')\n",
        "ax.set_xlabel('Transaction Amount in USD')\n",
        "plt.legend(title='Type',labels=['Fraud', 'Not Fraud'])"
      ],
      "metadata": {
        "colab": {
          "base_uri": "https://localhost:8080/",
          "height": 466
        },
        "id": "pBkHQN0eN5Os",
        "outputId": "876f8a47-b5c1-4f45-b291-6bf2bafffcbe",
        "execution": {
          "iopub.status.busy": "2024-03-29T15:04:25.077347Z",
          "iopub.execute_input": "2024-03-29T15:04:25.077802Z",
          "iopub.status.idle": "2024-03-29T15:04:26.400756Z",
          "shell.execute_reply.started": "2024-03-29T15:04:25.077763Z",
          "shell.execute_reply": "2024-03-29T15:04:26.399640Z"
        },
        "trusted": true
      },
      "execution_count": 16,
      "outputs": [
        {
          "output_type": "execute_result",
          "data": {
            "text/plain": [
              "<matplotlib.legend.Legend at 0x78816360e980>"
            ]
          },
          "metadata": {},
          "execution_count": 16
        },
        {
          "output_type": "display_data",
          "data": {
            "text/plain": [
              "<Figure size 640x480 with 1 Axes>"
            ],
            "image/png": "[encoded data removed]"
          },
          "metadata": {}
        }
      ]
    },
    {
      "cell_type": "markdown",
      "source": [
        "* Observation:\n",
        "\n",
        "While normal transactions tend tobe around \\$200 or less, we see fraudlent transactions peak around \\$300 and then at the \\$800-\\$1000 range."
      ],
      "metadata": {
        "id": "YD-W9T_bQ7nS"
      }
    },
    {
      "cell_type": "code",
      "source": [
        "# category vs fraud\n",
        "ax = sns.countplot(data=df[df.is_fraud==1],x='category',palette= 'crest')\n",
        "ax.set_xlabel('Category')\n",
        "ax.set_ylabel('Number of fraudulent transactions')\n",
        "plt.xticks(rotation=80)\n",
        "plt.show()"
      ],
      "metadata": {
        "colab": {
          "base_uri": "https://localhost:8080/",
          "height": 536
        },
        "id": "ozZokeH0R1uZ",
        "outputId": "e0e00e1d-d57c-45e9-c449-f8ca0a716482",
        "execution": {
          "iopub.status.busy": "2024-03-29T15:04:26.403592Z",
          "iopub.execute_input": "2024-03-29T15:04:26.404038Z",
          "iopub.status.idle": "2024-03-29T15:04:26.709057Z",
          "shell.execute_reply.started": "2024-03-29T15:04:26.403997Z",
          "shell.execute_reply": "2024-03-29T15:04:26.707979Z"
        },
        "trusted": true
      },
      "execution_count": 17,
      "outputs": [
        {
          "output_type": "display_data",
          "data": {
            "text/plain": [
              "<Figure size 640x480 with 1 Axes>"
            ],
            "image/png": "[encoded data removed]"
          },
          "metadata": {}
        }
      ]
    },
    {
      "cell_type": "markdown",
      "source": [
        "Most frauds occured in categories of shopping_net and grocery_pos"
      ],
      "metadata": {
        "id": "ngSfM210Yx7i"
      }
    },
    {
      "cell_type": "code",
      "source": [
        "# time in day with fraud\n",
        "ax = sns.histplot(data = df, x=\"hour_of_day\", hue=\"is_fraud\",common_norm= False,stat='percent',multiple='dodge',palette= 'muted')\n",
        "ax.set_ylabel('P')\n",
        "ax.set_xlabel('hour of day')\n",
        "plt.xticks(np.arange(0,24,1))\n",
        "plt.legend(title='Type', labels=['Fraud', 'Not Fraud'])\n"
      ],
      "metadata": {
        "colab": {
          "base_uri": "https://localhost:8080/",
          "height": 466
        },
        "id": "o1YNUzrXVd_p",
        "outputId": "a0785364-faf4-483b-8bf5-59302131fa2e",
        "execution": {
          "iopub.status.busy": "2024-03-29T15:04:26.710321Z",
          "iopub.execute_input": "2024-03-29T15:04:26.710777Z",
          "iopub.status.idle": "2024-03-29T15:04:28.168678Z",
          "shell.execute_reply.started": "2024-03-29T15:04:26.710732Z",
          "shell.execute_reply": "2024-03-29T15:04:28.167687Z"
        },
        "trusted": true
      },
      "execution_count": 18,
      "outputs": [
        {
          "output_type": "execute_result",
          "data": {
            "text/plain": [
              "<matplotlib.legend.Legend at 0x788160c374c0>"
            ]
          },
          "metadata": {},
          "execution_count": 18
        },
        {
          "output_type": "display_data",
          "data": {
            "text/plain": [
              "<Figure size 640x480 with 1 Axes>"
            ],
            "image/png": "[encoded data removed]"
          },
          "metadata": {}
        }
      ]
    },
    {
      "cell_type": "code",
      "source": [
        "#day of week with fraud\n",
        "ax = sns.histplot(data=df,x='day',hue='is_fraud',stat='percent',multiple='dodge',palette='muted',common_norm=False)\n",
        "ax.set_xticklabels([\" \",\"Sun\",\"Mon\",\"Tue\",\"Wed\",\"Thu\",\"Fri\",\"Sat\"])\n",
        "ax.set_xlabel('Day of week')\n",
        "ax.set_ylabel('Percentage')\n",
        "plt.legend(title='Type',labels=['Fraud','Not Fraud'])\n",
        "plt.show()"
      ],
      "metadata": {
        "colab": {
          "base_uri": "https://localhost:8080/",
          "height": 449
        },
        "id": "Iy8T-MeQaybC",
        "outputId": "dc695ca6-78e8-404d-e3d8-32723fde4e78",
        "execution": {
          "iopub.status.busy": "2024-03-29T15:04:28.170088Z",
          "iopub.execute_input": "2024-03-29T15:04:28.170724Z",
          "iopub.status.idle": "2024-03-29T15:04:29.213823Z",
          "shell.execute_reply.started": "2024-03-29T15:04:28.170692Z",
          "shell.execute_reply": "2024-03-29T15:04:29.212759Z"
        },
        "trusted": true
      },
      "execution_count": 19,
      "outputs": [
        {
          "output_type": "display_data",
          "data": {
            "text/plain": [
              "<Figure size 640x480 with 1 Axes>"
            ],
            "image/png": "[encoded data removed]"
          },
          "metadata": {}
        }
      ]
    },
    {
      "cell_type": "code",
      "source": [
        "\n",
        "sns.countplot(data=df[df.is_fraud ==1],x='gender',palette= 'pastel')"
      ],
      "metadata": {
        "colab": {
          "base_uri": "https://localhost:8080/",
          "height": 466
        },
        "id": "7fddBCTnZ0zo",
        "outputId": "dbdf906a-7013-4f11-ce41-eb5e86e8cf9f",
        "execution": {
          "iopub.status.busy": "2024-03-29T15:04:29.215229Z",
          "iopub.execute_input": "2024-03-29T15:04:29.215573Z",
          "iopub.status.idle": "2024-03-29T15:04:29.432643Z",
          "shell.execute_reply.started": "2024-03-29T15:04:29.215545Z",
          "shell.execute_reply": "2024-03-29T15:04:29.431517Z"
        },
        "trusted": true
      },
      "execution_count": 20,
      "outputs": [
        {
          "output_type": "execute_result",
          "data": {
            "text/plain": [
              "<Axes: xlabel='gender', ylabel='count'>"
            ]
          },
          "metadata": {},
          "execution_count": 20
        },
        {
          "output_type": "display_data",
          "data": {
            "text/plain": [
              "<Figure size 640x480 with 1 Axes>"
            ],
            "image/png": "[encoded data removed]"
          },
          "metadata": {}
        }
      ]
    },
    {
      "cell_type": "code",
      "source": [
        "fraudulent_jobs = df[df.is_fraud ==1][\"job\"].value_counts().head(10)\n",
        "ax=sns.barplot(x=fraudulent_jobs.index,y=fraudulent_jobs.values,palette='crest')\n",
        "ax.set_xlabel('Job')\n",
        "ax.set_ylabel('Number of fraudulent transactions')\n",
        "plt.xticks(rotation=90)\n",
        "plt.show()"
      ],
      "metadata": {
        "colab": {
          "base_uri": "https://localhost:8080/",
          "height": 691
        },
        "id": "hFdgX_8ydMhH",
        "outputId": "2cb80b9f-fc66-41b6-fd7d-4787a8e42bab",
        "execution": {
          "iopub.status.busy": "2024-03-29T15:04:29.434269Z",
          "iopub.execute_input": "2024-03-29T15:04:29.434923Z",
          "iopub.status.idle": "2024-03-29T15:04:29.678872Z",
          "shell.execute_reply.started": "2024-03-29T15:04:29.434891Z",
          "shell.execute_reply": "2024-03-29T15:04:29.677612Z"
        },
        "trusted": true
      },
      "execution_count": 21,
      "outputs": [
        {
          "output_type": "display_data",
          "data": {
            "text/plain": [
              "<Figure size 640x480 with 1 Axes>"
            ],
            "image/png": "[encoded data removed]"
          },
          "metadata": {}
        }
      ]
    },
    {
      "cell_type": "code",
      "source": [
        "fig= plt.figure(figsize=(14,5))\n",
        "mask = np.triu(np.ones_like(df.corr()))\n",
        "sns.heatmap(df.corr(),mask=mask,cmap=\"Blues\",annot=True)\n"
      ],
      "metadata": {
        "colab": {
          "base_uri": "https://localhost:8080/",
          "height": 535
        },
        "id": "S3-RD4Pn5anB",
        "outputId": "01061c0f-3f59-4cca-a9b0-792566deb34f",
        "execution": {
          "iopub.status.busy": "2024-03-29T15:04:29.680434Z",
          "iopub.execute_input": "2024-03-29T15:04:29.680955Z",
          "iopub.status.idle": "2024-03-29T15:04:29.685831Z",
          "shell.execute_reply.started": "2024-03-29T15:04:29.680925Z",
          "shell.execute_reply": "2024-03-29T15:04:29.684559Z"
        },
        "trusted": true
      },
      "execution_count": 22,
      "outputs": [
        {
          "output_type": "execute_result",
          "data": {
            "text/plain": [
              "<Axes: >"
            ]
          },
          "metadata": {},
          "execution_count": 22
        },
        {
          "output_type": "display_data",
          "data": {
            "text/plain": [
              "<Figure size 1400x500 with 2 Axes>"
            ],
            "image/png": "[encoded data removed]"
          },
          "metadata": {}
        }
      ]
    },
    {
      "cell_type": "markdown",
      "source": [
        "Observation: amt,lat,long,city_pop,merchant_lat,merchant_long,day,hour_of_day and age have high correlation with is_fraud."
      ],
      "metadata": {
        "id": "HtcL7ooXw4pY"
      }
    },
    {
      "cell_type": "markdown",
      "source": [
        "### Feature engineering"
      ],
      "metadata": {
        "id": "mQKkhhtcfM8y"
      }
    },
    {
      "cell_type": "code",
      "source": [
        "categorical_cols = [feature for feature in df.columns if df[feature].dtype == \"O\"]\n"
      ],
      "metadata": {
        "id": "7cD6zPQM5eN5",
        "execution": {
          "iopub.status.busy": "2024-03-29T15:04:29.688051Z",
          "iopub.execute_input": "2024-03-29T15:04:29.688558Z",
          "iopub.status.idle": "2024-03-29T15:04:29.696924Z",
          "shell.execute_reply.started": "2024-03-29T15:04:29.688518Z",
          "shell.execute_reply": "2024-03-29T15:04:29.695898Z"
        },
        "trusted": true
      },
      "execution_count": null,
      "outputs": []
    },
    {
      "cell_type": "code",
      "source": [
        "def apply_feature_engineering(df):\n",
        "    for cols in categorical_cols:\n",
        "        df[cols]=df[cols].astype(\"category\").cat.codes\n",
        "    return df\n",
        "df= apply_feature_engineering(df)"
      ],
      "metadata": {
        "id": "NuFu2PU5fvM5",
        "execution": {
          "iopub.status.busy": "2024-03-29T15:04:29.698341Z",
          "iopub.execute_input": "2024-03-29T15:04:29.698751Z",
          "iopub.status.idle": "2024-03-29T15:04:34.747029Z",
          "shell.execute_reply.started": "2024-03-29T15:04:29.698720Z",
          "shell.execute_reply": "2024-03-29T15:04:34.745776Z"
        },
        "trusted": true
      },
      "execution_count": null,
      "outputs": []
    },
    {
      "cell_type": "markdown",
      "source": [
        "## Apply machine learing model"
      ],
      "metadata": {
        "id": "hdwuOc4Xh5tX"
      }
    },
    {
      "cell_type": "markdown",
      "source": [
        "Based on our EDA above, we have found out that the features including transactions amount, credit card holder age, spending category, transaction time and locations all have varying degress of correlations with credit card fraud.\n",
        "\n",
        "The plan is train the models on the training data set which we have analyzed above and then use the testing dataset to evalute the model performance."
      ],
      "metadata": {
        "id": "rY82aFS3sGLY"
      }
    },
    {
      "cell_type": "code",
      "source": [
        "def prepare_X_y(df):\n",
        "    features =['amt','category','state','city_pop','merch_lat','merch_long','day','hour_of_day','age','gender','month','job','merchant','city','street']\n",
        "    X = df[features]\n",
        "    y= df[\"is_fraud\"]\n",
        "    return X,y\n"
      ],
      "metadata": {
        "id": "Retm70CKPITn",
        "execution": {
          "iopub.status.busy": "2024-03-29T15:04:34.748437Z",
          "iopub.execute_input": "2024-03-29T15:04:34.748960Z",
          "iopub.status.idle": "2024-03-29T15:04:34.754818Z",
          "shell.execute_reply.started": "2024-03-29T15:04:34.748926Z",
          "shell.execute_reply": "2024-03-29T15:04:34.753500Z"
        },
        "trusted": true
      },
      "execution_count": null,
      "outputs": []
    },
    {
      "cell_type": "markdown",
      "source": [
        "#### Check feature importance with RandomForest"
      ],
      "metadata": {
        "id": "7WkijTr8yAe9"
      }
    },
    {
      "cell_type": "code",
      "source": [
        "X_train,y_train= prepare_X_y(df)"
      ],
      "metadata": {
        "id": "YHRkzuPWy8Xd",
        "execution": {
          "iopub.status.busy": "2024-03-29T15:04:34.755931Z",
          "iopub.execute_input": "2024-03-29T15:04:34.756709Z",
          "iopub.status.idle": "2024-03-29T15:04:34.840517Z",
          "shell.execute_reply.started": "2024-03-29T15:04:34.756666Z",
          "shell.execute_reply": "2024-03-29T15:04:34.839482Z"
        },
        "trusted": true
      },
      "execution_count": null,
      "outputs": []
    },
    {
      "cell_type": "code",
      "source": [
        "rf = RandomForestClassifier()\n",
        "rf.fit(X_train, y_train)\n",
        "importances = rf.feature_importances_"
      ],
      "metadata": {
        "id": "Qnz2osb-x_mF",
        "execution": {
          "iopub.status.busy": "2024-03-29T15:04:34.841648Z",
          "iopub.execute_input": "2024-03-29T15:04:34.841957Z",
          "iopub.status.idle": "2024-03-29T15:14:09.615693Z",
          "shell.execute_reply.started": "2024-03-29T15:04:34.841930Z",
          "shell.execute_reply": "2024-03-29T15:14:09.614725Z"
        },
        "trusted": true
      },
      "execution_count": null,
      "outputs": []
    },
    {
      "cell_type": "code",
      "source": [
        "forest_importances = pd.Series(importances, index=X_train.columns)\n",
        "\n",
        "fig, ax = plt.subplots(figsize=(12, 5))\n",
        "forest_importances.sort_values(ascending=False).plot.bar(ax=ax,color='lightblue')\n",
        "ax.set_ylabel(\"Feature Importance\")\n",
        "fig.tight_layout();"
      ],
      "metadata": {
        "id": "_reAQyxAyzU9",
        "execution": {
          "iopub.status.busy": "2024-03-29T15:14:09.616891Z",
          "iopub.execute_input": "2024-03-29T15:14:09.617185Z",
          "iopub.status.idle": "2024-03-29T15:14:09.950295Z",
          "shell.execute_reply.started": "2024-03-29T15:14:09.617159Z",
          "shell.execute_reply": "2024-03-29T15:14:09.949187Z"
        },
        "trusted": true,
        "outputId": "cf4ea36c-9562-4f6b-f324-4bd72ae2571f"
      },
      "execution_count": null,
      "outputs": [
        {
          "output_type": "display_data",
          "data": {
            "text/plain": "<Figure size 1200x500 with 1 Axes>",
            "image/png": "[encoded data removed]"
          },
          "metadata": {}
        }
      ]
    },
    {
      "cell_type": "markdown",
      "source": [
        "Now we proceed to select our features."
      ],
      "metadata": {
        "id": "iC5jfJ0jRLQV"
      }
    },
    {
      "cell_type": "code",
      "source": [
        "def prepare_X_y_2(df):\n",
        "    features =['amt','category','hour_of_day','age','merch_lat','merch_long','city_pop','state','job','month','day']\n",
        "    X = df[features]\n",
        "    y= df[\"is_fraud\"]\n",
        "    return X,y\n"
      ],
      "metadata": {
        "id": "GuHU7hPORJ3D",
        "execution": {
          "iopub.status.busy": "2024-03-29T15:14:09.951570Z",
          "iopub.execute_input": "2024-03-29T15:14:09.953146Z",
          "iopub.status.idle": "2024-03-29T15:14:09.958382Z",
          "shell.execute_reply.started": "2024-03-29T15:14:09.953115Z",
          "shell.execute_reply": "2024-03-29T15:14:09.957326Z"
        },
        "trusted": true
      },
      "execution_count": null,
      "outputs": []
    },
    {
      "cell_type": "markdown",
      "source": [
        "### Preparing test data"
      ],
      "metadata": {
        "id": "CNpkEe13y_Sl"
      }
    },
    {
      "cell_type": "code",
      "source": [
        "# convert datetime columns\n",
        "test_set['trans_date_trans_time'] = pd.to_datetime(test_set['trans_date_trans_time'],infer_datetime_format=True)\n",
        "test_set['dob'] = pd.to_datetime(test_set['dob'],infer_datetime_format= True)\n",
        "\n",
        "# Add columns\n",
        "test_set['hour_of_day'] = test_set.trans_date_trans_time.dt.hour\n",
        "test_set['day']=test_set['trans_date_trans_time'].dt.dayofweek\n",
        "test_set['month']=test_set['trans_date_trans_time'].dt.month\n",
        "test_set['age'] = ((test_set['trans_date_trans_time'] - test_set['dob'])/ pd.Timedelta(days=365)).astype(int)\n",
        "\n",
        "\n",
        "categorical_cols_test = [feature for feature in test_set.columns if test_set[feature].dtype ==\"O\"]\n",
        "test_set= apply_feature_engineering(test_set)\n"
      ],
      "metadata": {
        "id": "JOLH4jQwQtCL",
        "execution": {
          "iopub.status.busy": "2024-03-29T15:14:09.959758Z",
          "iopub.execute_input": "2024-03-29T15:14:09.960154Z",
          "iopub.status.idle": "2024-03-29T15:14:12.114441Z",
          "shell.execute_reply.started": "2024-03-29T15:14:09.960117Z",
          "shell.execute_reply": "2024-03-29T15:14:12.113388Z"
        },
        "trusted": true
      },
      "execution_count": null,
      "outputs": []
    },
    {
      "cell_type": "code",
      "source": [
        "X_train,y_train= prepare_X_y_2(df)\n",
        "X_test,y_test= prepare_X_y_2(test_set)"
      ],
      "metadata": {
        "colab": {
          "background_save": true
        },
        "id": "FHLI5emISWFG",
        "execution": {
          "iopub.status.busy": "2024-03-29T15:14:12.115747Z",
          "iopub.execute_input": "2024-03-29T15:14:12.116163Z",
          "iopub.status.idle": "2024-03-29T15:14:12.175961Z",
          "shell.execute_reply.started": "2024-03-29T15:14:12.116127Z",
          "shell.execute_reply": "2024-03-29T15:14:12.175010Z"
        },
        "trusted": true
      },
      "execution_count": null,
      "outputs": []
    },
    {
      "cell_type": "markdown",
      "source": [
        "## No handle imbalances"
      ],
      "metadata": {
        "id": "_D2JqRwj82u-"
      }
    },
    {
      "cell_type": "code",
      "source": [
        "names =['Logistic','Decision Tree','Random Forest','XGBoost']\n",
        "precision_scores = []\n",
        "recall_scores=[]\n",
        "f1_scores=[]"
      ],
      "metadata": {
        "id": "6t43J-v7iYNH",
        "execution": {
          "iopub.status.busy": "2024-03-29T15:14:12.177329Z",
          "iopub.execute_input": "2024-03-29T15:14:12.178206Z",
          "iopub.status.idle": "2024-03-29T15:14:12.183485Z",
          "shell.execute_reply.started": "2024-03-29T15:14:12.178165Z",
          "shell.execute_reply": "2024-03-29T15:14:12.182369Z"
        },
        "trusted": true
      },
      "execution_count": null,
      "outputs": []
    },
    {
      "cell_type": "code",
      "source": [
        "def calculate_performance(y_true,y_pred):\n",
        "    print(\"\\nprecision\", precision_score(y_true,y_pred) )\n",
        "    print(\"recall\",recall_score(y_true,y_pred) )\n",
        "    print(\"accuracy\", accuracy_score (y_true, y_pred) )\n",
        "    print(\"F1\",f1_score(y_true,y_pred) )\n",
        "\n",
        "    main_score = recall_score(y_true,y_pred)\n",
        "    print (\"Main_score : \",main_score)\n",
        "    print(\"-\" * 100)\n",
        "    print(\"Classification report: \\n\", classification_report(y_true , y_pred))"
      ],
      "metadata": {
        "execution": {
          "iopub.status.busy": "2024-03-29T15:14:12.184606Z",
          "iopub.execute_input": "2024-03-29T15:14:12.185002Z",
          "iopub.status.idle": "2024-03-29T15:14:12.195193Z",
          "shell.execute_reply.started": "2024-03-29T15:14:12.184966Z",
          "shell.execute_reply": "2024-03-29T15:14:12.194298Z"
        },
        "trusted": true,
        "id": "aL3WFw4jaoYy"
      },
      "execution_count": null,
      "outputs": []
    },
    {
      "cell_type": "markdown",
      "source": [
        "#### Logistic"
      ],
      "metadata": {
        "id": "LuS7RSW7iQTZ"
      }
    },
    {
      "cell_type": "code",
      "source": [
        "def build_model_LR(X,y):\n",
        "    scaler = StandardScaler()\n",
        "    logisticregression = LogisticRegression()\n",
        "    model = Pipeline (steps =[('scaler',scaler),('logisticregression',logisticregression)])\n",
        "    model.fit(X,y)\n",
        "    return model\n"
      ],
      "metadata": {
        "id": "4TeWI3NUh8RL",
        "execution": {
          "iopub.status.busy": "2024-03-29T15:14:12.196722Z",
          "iopub.execute_input": "2024-03-29T15:14:12.197068Z",
          "iopub.status.idle": "2024-03-29T15:14:12.208291Z",
          "shell.execute_reply.started": "2024-03-29T15:14:12.197039Z",
          "shell.execute_reply": "2024-03-29T15:14:12.207311Z"
        },
        "trusted": true
      },
      "execution_count": null,
      "outputs": []
    },
    {
      "cell_type": "code",
      "source": [
        "model = build_model_LR(X_train,y_train)\n",
        "pred = model.predict(X_test)\n",
        "calculate_performance(y_test,pred)\n",
        "\n",
        "precision_scores.append(precision_score(y_test,pred))\n",
        "recall_scores.append(recall_score(y_test,pred))\n",
        "f1_scores.append(f1_score(y_test,pred))"
      ],
      "metadata": {
        "id": "f-N5w0paqASQ",
        "execution": {
          "iopub.status.busy": "2024-03-29T15:14:12.209648Z",
          "iopub.execute_input": "2024-03-29T15:14:12.210316Z",
          "iopub.status.idle": "2024-03-29T15:14:16.341449Z",
          "shell.execute_reply.started": "2024-03-29T15:14:12.210269Z",
          "shell.execute_reply": "2024-03-29T15:14:16.340317Z"
        },
        "trusted": true,
        "outputId": "9c434001-b620-4bc4-ffc0-1a5f5d38685d"
      },
      "execution_count": null,
      "outputs": [
        {
          "name": "stdout",
          "text": "\nprecision 0.0\nrecall 0.0\naccuracy 0.995531914510751\nF1 0.0\nMain_score :  0.0\n----------------------------------------------------------------------------------------------------\nClassification report: \n               precision    recall  f1-score   support\n\n           0       1.00      1.00      1.00    553574\n           1       0.00      0.00      0.00      2145\n\n    accuracy                           1.00    555719\n   macro avg       0.50      0.50      0.50    555719\nweighted avg       0.99      1.00      0.99    555719\n\n",
          "output_type": "stream"
        }
      ]
    },
    {
      "cell_type": "markdown",
      "source": [
        "Decision Tree"
      ],
      "metadata": {
        "id": "S14XWbWqqC3l"
      }
    },
    {
      "cell_type": "code",
      "source": [
        "def build_model_D(X,y):\n",
        "    scaler = StandardScaler()\n",
        "    decisiontreeclassifier = DecisionTreeClassifier()\n",
        "    model = Pipeline (steps =[('scaler',scaler),('tree',decisiontreeclassifier)])\n",
        "    model.fit(X,y)\n",
        "    return model"
      ],
      "metadata": {
        "id": "I1Xa6yPjJIXJ",
        "execution": {
          "iopub.status.busy": "2024-03-29T15:14:16.343141Z",
          "iopub.execute_input": "2024-03-29T15:14:16.343610Z",
          "iopub.status.idle": "2024-03-29T15:14:16.350956Z",
          "shell.execute_reply.started": "2024-03-29T15:14:16.343569Z",
          "shell.execute_reply": "2024-03-29T15:14:16.349772Z"
        },
        "trusted": true
      },
      "execution_count": null,
      "outputs": []
    },
    {
      "cell_type": "code",
      "source": [
        "model = build_model_D(X_train,y_train)\n",
        "pred = model.predict(X_test)\n",
        "calculate_performance(y_test,pred)\n",
        "\n",
        "precision_scores.append(precision_score(y_test,pred))\n",
        "recall_scores.append(recall_score(y_test,pred))\n",
        "f1_scores.append(f1_score(y_test,pred))"
      ],
      "metadata": {
        "id": "Z8fcPMVLJwTi",
        "execution": {
          "iopub.status.busy": "2024-03-29T15:14:16.352662Z",
          "iopub.execute_input": "2024-03-29T15:14:16.353738Z",
          "iopub.status.idle": "2024-03-29T15:14:38.900079Z",
          "shell.execute_reply.started": "2024-03-29T15:14:16.353706Z",
          "shell.execute_reply": "2024-03-29T15:14:38.899206Z"
        },
        "trusted": true,
        "outputId": "7b863f37-3fd5-4bf5-ca00-b2b919d35ab9"
      },
      "execution_count": null,
      "outputs": [
        {
          "name": "stdout",
          "text": "\nprecision 0.6909323116219668\nrecall 0.7566433566433567\naccuracy 0.9977542606965031\nF1 0.7222963951935913\nMain_score :  0.7566433566433567\n----------------------------------------------------------------------------------------------------\nClassification report: \n               precision    recall  f1-score   support\n\n           0       1.00      1.00      1.00    553574\n           1       0.69      0.76      0.72      2145\n\n    accuracy                           1.00    555719\n   macro avg       0.84      0.88      0.86    555719\nweighted avg       1.00      1.00      1.00    555719\n\n",
          "output_type": "stream"
        }
      ]
    },
    {
      "cell_type": "markdown",
      "source": [
        "Randomforest model"
      ],
      "metadata": {
        "id": "QmSnxR9IqTG1"
      }
    },
    {
      "cell_type": "code",
      "source": [
        "def build_model_RF(X,y):\n",
        "\n",
        "    scaler = StandardScaler()\n",
        "    rf = RandomForestClassifier()\n",
        "    model = Pipeline (steps =[('scaler',scaler),('rf',rf)])\n",
        "    model.fit(X,y)\n",
        "    return model\n"
      ],
      "metadata": {
        "id": "8uT3bDvSqSVH",
        "execution": {
          "iopub.status.busy": "2024-03-29T15:14:38.901271Z",
          "iopub.execute_input": "2024-03-29T15:14:38.901677Z",
          "iopub.status.idle": "2024-03-29T15:14:38.907101Z",
          "shell.execute_reply.started": "2024-03-29T15:14:38.901649Z",
          "shell.execute_reply": "2024-03-29T15:14:38.906210Z"
        },
        "trusted": true
      },
      "execution_count": null,
      "outputs": []
    },
    {
      "cell_type": "code",
      "source": [
        "model = build_model_RF(X_train,y_train)\n",
        "pred = model.predict(X_test)\n",
        "calculate_performance(y_test,pred)\n",
        "\n",
        "precision_scores.append(precision_score(y_test,pred))\n",
        "recall_scores.append(recall_score(y_test,pred))\n",
        "f1_scores.append(f1_score(y_test,pred))"
      ],
      "metadata": {
        "id": "0JZLxy3lqziF",
        "execution": {
          "iopub.status.busy": "2024-03-29T15:14:38.908516Z",
          "iopub.execute_input": "2024-03-29T15:14:38.908831Z",
          "iopub.status.idle": "2024-03-29T15:23:35.345116Z",
          "shell.execute_reply.started": "2024-03-29T15:14:38.908807Z",
          "shell.execute_reply": "2024-03-29T15:23:35.344000Z"
        },
        "trusted": true,
        "outputId": "c5c98aed-8963-4484-ec58-b585393ebd4f"
      },
      "execution_count": null,
      "outputs": [
        {
          "name": "stdout",
          "text": "\nprecision 0.9405272838749233\nrecall 0.7151515151515152\naccuracy 0.9987259748182085\nF1 0.8125\nMain_score :  0.7151515151515152\n----------------------------------------------------------------------------------------------------\nClassification report: \n               precision    recall  f1-score   support\n\n           0       1.00      1.00      1.00    553574\n           1       0.94      0.72      0.81      2145\n\n    accuracy                           1.00    555719\n   macro avg       0.97      0.86      0.91    555719\nweighted avg       1.00      1.00      1.00    555719\n\n",
          "output_type": "stream"
        }
      ]
    },
    {
      "cell_type": "markdown",
      "source": [
        "Xgboost model"
      ],
      "metadata": {
        "id": "4JcvELUHq78y"
      }
    },
    {
      "cell_type": "code",
      "source": [
        "def build_model_XGB(X,y):\n",
        "    scaler = StandardScaler()\n",
        "    xgb = XGBClassifier()\n",
        "    model = Pipeline(steps =[('scaler',scaler),('xgb',xgb)] )\n",
        "    model.fit(X,y)\n",
        "    return model\n",
        "\n"
      ],
      "metadata": {
        "id": "xbin3oyBq9h5",
        "execution": {
          "iopub.status.busy": "2024-03-29T15:23:35.346498Z",
          "iopub.execute_input": "2024-03-29T15:23:35.346881Z",
          "iopub.status.idle": "2024-03-29T15:23:35.352330Z",
          "shell.execute_reply.started": "2024-03-29T15:23:35.346852Z",
          "shell.execute_reply": "2024-03-29T15:23:35.351381Z"
        },
        "trusted": true
      },
      "execution_count": null,
      "outputs": []
    },
    {
      "cell_type": "code",
      "source": [
        "model = build_model_XGB(X_train,y_train)\n",
        "pred = model.predict(X_test)\n",
        "calculate_performance(y_test,pred)\n",
        "\n",
        "precision_scores.append(precision_score(y_test,pred))\n",
        "recall_scores.append(recall_score(y_test,pred))\n",
        "f1_scores.append(f1_score(y_test,pred))"
      ],
      "metadata": {
        "id": "BZAWvLParHFt",
        "execution": {
          "iopub.status.busy": "2024-03-29T15:23:35.359406Z",
          "iopub.execute_input": "2024-03-29T15:23:35.359765Z",
          "iopub.status.idle": "2024-03-29T15:23:45.974363Z",
          "shell.execute_reply.started": "2024-03-29T15:23:35.359737Z",
          "shell.execute_reply": "2024-03-29T15:23:45.973445Z"
        },
        "trusted": true,
        "outputId": "521749b7-dd3d-4827-e46c-f5ae165d35ee"
      },
      "execution_count": null,
      "outputs": [
        {
          "name": "stdout",
          "text": "\nprecision 0.9135802469135802\nrecall 0.6899766899766899\naccuracy 0.9985514261704207\nF1 0.7861885790172644\nMain_score :  0.6899766899766899\n----------------------------------------------------------------------------------------------------\nClassification report: \n               precision    recall  f1-score   support\n\n           0       1.00      1.00      1.00    553574\n           1       0.91      0.69      0.79      2145\n\n    accuracy                           1.00    555719\n   macro avg       0.96      0.84      0.89    555719\nweighted avg       1.00      1.00      1.00    555719\n\n",
          "output_type": "stream"
        }
      ]
    },
    {
      "cell_type": "code",
      "source": [
        "scoreDataFrame = pd.DataFrame({'Model':names, 'Precision Score': precision_scores, 'Recall Score': recall_scores,'f1-score': f1_scores})\n",
        "scoreDataFrame"
      ],
      "metadata": {
        "execution": {
          "iopub.status.busy": "2024-03-29T15:23:45.975753Z",
          "iopub.execute_input": "2024-03-29T15:23:45.976046Z",
          "iopub.status.idle": "2024-03-29T15:23:45.988419Z",
          "shell.execute_reply.started": "2024-03-29T15:23:45.976022Z",
          "shell.execute_reply": "2024-03-29T15:23:45.987227Z"
        },
        "trusted": true,
        "id": "yN6Ze94VaoY0",
        "outputId": "c1c7df30-0ec7-4d8c-a78d-14360f1ee776"
      },
      "execution_count": null,
      "outputs": [
        {
          "execution_count": 43,
          "output_type": "execute_result",
          "data": {
            "text/plain": "           Model  Precision Score  Recall Score  f1-score\n0       Logistic         0.000000      0.000000  0.000000\n1  Decision Tree         0.690932      0.756643  0.722296\n2  Random Forest         0.940527      0.715152  0.812500\n3        XGBoost         0.913580      0.689977  0.786189",
            "text/html": "<div>\n<style scoped>\n    .dataframe tbody tr th:only-of-type {\n        vertical-align: middle;\n    }\n\n    .dataframe tbody tr th {\n        vertical-align: top;\n    }\n\n    .dataframe thead th {\n        text-align: right;\n    }\n</style>\n<table border=\"1\" class=\"dataframe\">\n  <thead>\n    <tr style=\"text-align: right;\">\n      <th></th>\n      <th>Model</th>\n      <th>Precision Score</th>\n      <th>Recall Score</th>\n      <th>f1-score</th>\n    </tr>\n  </thead>\n  <tbody>\n    <tr>\n      <th>0</th>\n      <td>Logistic</td>\n      <td>0.000000</td>\n      <td>0.000000</td>\n      <td>0.000000</td>\n    </tr>\n    <tr>\n      <th>1</th>\n      <td>Decision Tree</td>\n      <td>0.690932</td>\n      <td>0.756643</td>\n      <td>0.722296</td>\n    </tr>\n    <tr>\n      <th>2</th>\n      <td>Random Forest</td>\n      <td>0.940527</td>\n      <td>0.715152</td>\n      <td>0.812500</td>\n    </tr>\n    <tr>\n      <th>3</th>\n      <td>XGBoost</td>\n      <td>0.913580</td>\n      <td>0.689977</td>\n      <td>0.786189</td>\n    </tr>\n  </tbody>\n</table>\n</div>"
          },
          "metadata": {}
        }
      ]
    },
    {
      "cell_type": "markdown",
      "source": [
        "Observation: Randomforest have a best performance"
      ],
      "metadata": {
        "id": "ir19xv-baoY0"
      }
    },
    {
      "cell_type": "markdown",
      "source": [
        "## Handle imbalances"
      ],
      "metadata": {
        "id": "_5qHXjNW89pW"
      }
    },
    {
      "cell_type": "code",
      "source": [
        "names_2 =['Oversampling','UnderSampling','SMOTE']\n",
        "precision_scores_2 = []\n",
        "recall_scores_2=[]\n",
        "f1_scores_2=[]"
      ],
      "metadata": {
        "execution": {
          "iopub.status.busy": "2024-03-29T15:23:45.989776Z",
          "iopub.execute_input": "2024-03-29T15:23:45.990288Z",
          "iopub.status.idle": "2024-03-29T15:23:45.997080Z",
          "shell.execute_reply.started": "2024-03-29T15:23:45.990259Z",
          "shell.execute_reply": "2024-03-29T15:23:45.996028Z"
        },
        "trusted": true,
        "id": "Fu3prh08aoY1"
      },
      "execution_count": null,
      "outputs": []
    },
    {
      "cell_type": "markdown",
      "source": [
        "### Oversampling"
      ],
      "metadata": {
        "id": "7eDRauxe0QHE"
      }
    },
    {
      "cell_type": "code",
      "source": [
        "from imblearn.over_sampling import RandomOverSampler\n",
        "ros = RandomOverSampler(random_state=42)\n",
        "X_over, y_over = ros.fit_resample(X_train, y_train)"
      ],
      "metadata": {
        "id": "WJN6Y78y0CGl",
        "execution": {
          "iopub.status.busy": "2024-03-29T15:23:45.998376Z",
          "iopub.execute_input": "2024-03-29T15:23:46.000073Z",
          "iopub.status.idle": "2024-03-29T15:23:46.756922Z",
          "shell.execute_reply.started": "2024-03-29T15:23:46.000031Z",
          "shell.execute_reply": "2024-03-29T15:23:46.755809Z"
        },
        "trusted": true
      },
      "execution_count": null,
      "outputs": []
    },
    {
      "cell_type": "code",
      "source": [
        "print('Genuine:', y_over.value_counts()[0], '/', round(y_over.value_counts()[0]/len(y_over) * 100,2), '% of the dataset')\n",
        "print('Frauds:', y_over.value_counts()[1], '/',round(y_over.value_counts()[1]/len(y_over) * 100,2), '% of the dataset')"
      ],
      "metadata": {
        "colab": {
          "base_uri": "https://localhost:8080/"
        },
        "id": "nslbTQVIz489",
        "outputId": "bc49b1bd-2c70-42e4-ff2a-37f048899c4f",
        "execution": {
          "iopub.status.busy": "2024-03-29T15:23:46.758428Z",
          "iopub.execute_input": "2024-03-29T15:23:46.759314Z",
          "iopub.status.idle": "2024-03-29T15:23:46.861659Z",
          "shell.execute_reply.started": "2024-03-29T15:23:46.759281Z",
          "shell.execute_reply": "2024-03-29T15:23:46.860618Z"
        },
        "trusted": true
      },
      "execution_count": null,
      "outputs": [
        {
          "name": "stdout",
          "text": "Genuine: 1289169 / 50.0 % of the dataset\nFrauds: 1289169 / 50.0 % of the dataset\n",
          "output_type": "stream"
        }
      ]
    },
    {
      "cell_type": "code",
      "source": [
        "model = build_model_RF(X_over,y_over)\n",
        "pred = model.predict(X_test)\n",
        "calculate_performance(y_test,pred)\n",
        "\n",
        "precision_scores_2.append(precision_score(y_test,pred))\n",
        "recall_scores_2.append(recall_score(y_test,pred))\n",
        "f1_scores_2.append(f1_score(y_test,pred))"
      ],
      "metadata": {
        "execution": {
          "iopub.status.busy": "2024-03-29T15:23:46.862861Z",
          "iopub.execute_input": "2024-03-29T15:23:46.863192Z",
          "iopub.status.idle": "2024-03-29T15:40:03.344041Z",
          "shell.execute_reply.started": "2024-03-29T15:23:46.863162Z",
          "shell.execute_reply": "2024-03-29T15:40:03.343030Z"
        },
        "trusted": true,
        "id": "fUUFQ0CdaoY1",
        "outputId": "210355e5-eda9-4ef9-f543-75da187c0e7e"
      },
      "execution_count": null,
      "outputs": [
        {
          "name": "stdout",
          "text": "\nprecision 0.9161290322580645\nrecall 0.7282051282051282\naccuracy 0.998693584347485\nF1 0.8114285714285715\nMain_score :  0.7282051282051282\n----------------------------------------------------------------------------------------------------\nClassification report: \n               precision    recall  f1-score   support\n\n           0       1.00      1.00      1.00    553574\n           1       0.92      0.73      0.81      2145\n\n    accuracy                           1.00    555719\n   macro avg       0.96      0.86      0.91    555719\nweighted avg       1.00      1.00      1.00    555719\n\n",
          "output_type": "stream"
        }
      ]
    },
    {
      "cell_type": "markdown",
      "source": [
        "### Undersampling"
      ],
      "metadata": {
        "id": "z_bqLk0QaoY2"
      }
    },
    {
      "cell_type": "code",
      "source": [
        "from imblearn.under_sampling import RandomUnderSampler\n",
        "rus = RandomUnderSampler(sampling_strategy=0.1, random_state=42)\n",
        "X_under, y_under = rus.fit_resample(X_train, y_train)"
      ],
      "metadata": {
        "id": "Vuu1g7HTYHep",
        "execution": {
          "iopub.status.busy": "2024-03-29T15:40:03.345297Z",
          "iopub.execute_input": "2024-03-29T15:40:03.345700Z",
          "iopub.status.idle": "2024-03-29T15:40:03.695472Z",
          "shell.execute_reply.started": "2024-03-29T15:40:03.345673Z",
          "shell.execute_reply": "2024-03-29T15:40:03.694575Z"
        },
        "trusted": true
      },
      "execution_count": null,
      "outputs": []
    },
    {
      "cell_type": "code",
      "source": [
        "model = build_model_RF(X_under,y_under)\n",
        "pred = model.predict(X_test)\n",
        "calculate_performance(y_test,pred)\n",
        "\n",
        "precision_scores_2.append(precision_score(y_test,pred))\n",
        "recall_scores_2.append(recall_score(y_test,pred))\n",
        "f1_scores_2.append(f1_score(y_test,pred))"
      ],
      "metadata": {
        "execution": {
          "iopub.status.busy": "2024-03-29T15:40:03.696653Z",
          "iopub.execute_input": "2024-03-29T15:40:03.697044Z",
          "iopub.status.idle": "2024-03-29T15:40:29.589414Z",
          "shell.execute_reply.started": "2024-03-29T15:40:03.697017Z",
          "shell.execute_reply": "2024-03-29T15:40:29.588482Z"
        },
        "trusted": true,
        "id": "4M3LPA1KaoY2",
        "outputId": "d64eaebb-c3c7-4d4f-b779-38790d4e74ba"
      },
      "execution_count": null,
      "outputs": [
        {
          "name": "stdout",
          "text": "\nprecision 0.5440828402366864\nrecall 0.8573426573426574\naccuracy 0.9966763778096484\nF1 0.6657013574660634\nMain_score :  0.8573426573426574\n----------------------------------------------------------------------------------------------------\nClassification report: \n               precision    recall  f1-score   support\n\n           0       1.00      1.00      1.00    553574\n           1       0.54      0.86      0.67      2145\n\n    accuracy                           1.00    555719\n   macro avg       0.77      0.93      0.83    555719\nweighted avg       1.00      1.00      1.00    555719\n\n",
          "output_type": "stream"
        }
      ]
    },
    {
      "cell_type": "markdown",
      "source": [
        "### SMOTE"
      ],
      "metadata": {
        "id": "NNnD_EBmaoY2"
      }
    },
    {
      "cell_type": "code",
      "source": [
        "from imblearn.over_sampling import SMOTE\n",
        "method= SMOTE()\n",
        "X_smote, y_smote = method.fit_resample(X_train, y_train)"
      ],
      "metadata": {
        "execution": {
          "iopub.status.busy": "2024-03-29T15:40:29.590889Z",
          "iopub.execute_input": "2024-03-29T15:40:29.591246Z",
          "iopub.status.idle": "2024-03-29T15:40:30.670736Z",
          "shell.execute_reply.started": "2024-03-29T15:40:29.591218Z",
          "shell.execute_reply": "2024-03-29T15:40:30.669770Z"
        },
        "trusted": true,
        "id": "PsAaW-RoaoY2"
      },
      "execution_count": null,
      "outputs": []
    },
    {
      "cell_type": "code",
      "source": [
        "model = build_model_RF(X_smote,y_smote)\n",
        "pred = model.predict(X_test)\n",
        "calculate_performance(y_test,pred)\n",
        "\n",
        "precision_scores_2.append(precision_score(y_test,pred))\n",
        "recall_scores_2.append(recall_score(y_test,pred))\n",
        "f1_scores_2.append(f1_score(y_test,pred))"
      ],
      "metadata": {
        "execution": {
          "iopub.status.busy": "2024-03-29T15:40:30.672150Z",
          "iopub.execute_input": "2024-03-29T15:40:30.672526Z",
          "iopub.status.idle": "2024-03-29T16:03:52.040141Z",
          "shell.execute_reply.started": "2024-03-29T15:40:30.672438Z",
          "shell.execute_reply": "2024-03-29T16:03:52.039176Z"
        },
        "trusted": true,
        "id": "XX3noe-MaoY2",
        "outputId": "67925bac-33db-4345-d60f-d35e1642d918"
      },
      "execution_count": null,
      "outputs": [
        {
          "name": "stdout",
          "text": "\nprecision 0.6078286558345642\nrecall 0.7673659673659674\naccuracy 0.9971910264000331\nF1 0.678343292808572\nMain_score :  0.7673659673659674\n----------------------------------------------------------------------------------------------------\nClassification report: \n               precision    recall  f1-score   support\n\n           0       1.00      1.00      1.00    553574\n           1       0.61      0.77      0.68      2145\n\n    accuracy                           1.00    555719\n   macro avg       0.80      0.88      0.84    555719\nweighted avg       1.00      1.00      1.00    555719\n\n",
          "output_type": "stream"
        }
      ]
    },
    {
      "cell_type": "code",
      "source": [
        "scoreDataFrame_2 = pd.DataFrame({'Method':names_2, 'Precision Score': precision_scores_2, 'Recall Score': recall_scores_2,'f1-score': f1_scores_2})\n",
        "scoreDataFrame_2"
      ],
      "metadata": {
        "execution": {
          "iopub.status.busy": "2024-03-29T16:03:52.041683Z",
          "iopub.execute_input": "2024-03-29T16:03:52.042033Z",
          "iopub.status.idle": "2024-03-29T16:03:52.055108Z",
          "shell.execute_reply.started": "2024-03-29T16:03:52.041999Z",
          "shell.execute_reply": "2024-03-29T16:03:52.054046Z"
        },
        "trusted": true,
        "id": "020WjbCUaoY3",
        "outputId": "d3bb3957-f115-4b06-c524-6847ed9ec54a"
      },
      "execution_count": null,
      "outputs": [
        {
          "execution_count": 52,
          "output_type": "execute_result",
          "data": {
            "text/plain": "          Method  Precision Score  Recall Score  f1-score\n0   Oversampling         0.916129      0.728205  0.811429\n1  UnderSampling         0.544083      0.857343  0.665701\n2          SMOTE         0.607829      0.767366  0.678343",
            "text/html": "<div>\n<style scoped>\n    .dataframe tbody tr th:only-of-type {\n        vertical-align: middle;\n    }\n\n    .dataframe tbody tr th {\n        vertical-align: top;\n    }\n\n    .dataframe thead th {\n        text-align: right;\n    }\n</style>\n<table border=\"1\" class=\"dataframe\">\n  <thead>\n    <tr style=\"text-align: right;\">\n      <th></th>\n      <th>Method</th>\n      <th>Precision Score</th>\n      <th>Recall Score</th>\n      <th>f1-score</th>\n    </tr>\n  </thead>\n  <tbody>\n    <tr>\n      <th>0</th>\n      <td>Oversampling</td>\n      <td>0.916129</td>\n      <td>0.728205</td>\n      <td>0.811429</td>\n    </tr>\n    <tr>\n      <th>1</th>\n      <td>UnderSampling</td>\n      <td>0.544083</td>\n      <td>0.857343</td>\n      <td>0.665701</td>\n    </tr>\n    <tr>\n      <th>2</th>\n      <td>SMOTE</td>\n      <td>0.607829</td>\n      <td>0.767366</td>\n      <td>0.678343</td>\n    </tr>\n  </tbody>\n</table>\n</div>"
          },
          "metadata": {}
        }
      ]
    },
    {
      "cell_type": "markdown",
      "source": [
        "Observation: Randomforest with Oversampling have the best performance"
      ],
      "metadata": {
        "id": "BacDEbnGaoY3"
      }
    },
    {
      "cell_type": "markdown",
      "source": [
        "### Hyperparameter Tuning"
      ],
      "metadata": {
        "id": "iMZyxl5naoY3"
      }
    },
    {
      "cell_type": "code",
      "source": [
        "from sklearn.ensemble import RandomForestClassifier\n",
        "\n",
        "def build_model_RF(X,y):\n",
        "\n",
        "    scaler = StandardScaler()\n",
        "    rf = RandomForestClassifier()\n",
        "    model = Pipeline (steps =[('scaler',scaler),('rf',rf)])\n",
        "    param_grid = {\n",
        "        'rf__n_estimators': [50, 100, 120],\n",
        "        'rf__max_features': ['sqrt', 'log2'],\n",
        "        'rf__max_depth': range(5,20),\n",
        "        'rf__criterion': [\"gini\", \"entropy\", \"log_loss\"]\n",
        "    }\n",
        "    grid = GridSearchCV(model, param_grid = param_grid, n_jobs=2)\n",
        "    grid.fit(X,y)\n",
        "    return grid\n"
      ],
      "metadata": {
        "execution": {
          "iopub.status.busy": "2024-03-29T16:03:52.056851Z",
          "iopub.execute_input": "2024-03-29T16:03:52.057905Z",
          "iopub.status.idle": "2024-03-29T16:03:52.078533Z",
          "shell.execute_reply.started": "2024-03-29T16:03:52.057872Z",
          "shell.execute_reply": "2024-03-29T16:03:52.077644Z"
        },
        "trusted": true,
        "id": "Mw_9Uj8KaoY3"
      },
      "execution_count": null,
      "outputs": []
    },
    {
      "cell_type": "code",
      "source": [
        "model = build_model_RF(X_train,y_train)\n",
        "pred = model.predict(X_test)\n",
        "calculate_performance(y_test,pred)\n"
      ],
      "metadata": {
        "execution": {
          "iopub.status.busy": "2024-03-29T16:03:52.079473Z",
          "iopub.execute_input": "2024-03-29T16:03:52.079805Z"
        },
        "trusted": true,
        "id": "0ri9zvjWaoY3"
      },
      "execution_count": null,
      "outputs": []
    },
    {
      "cell_type": "code",
      "source": [
        "confusion_matrix = metrics.confusion_matrix(y_test,pred, normalize=normalize_matrix)"
      ],
      "metadata": {
        "trusted": true,
        "id": "7WtGjgo8aoY3"
      },
      "execution_count": null,
      "outputs": []
    }
  ]
}